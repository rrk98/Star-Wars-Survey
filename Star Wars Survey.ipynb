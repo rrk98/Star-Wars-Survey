{
 "cells": [
  {
   "cell_type": "code",
   "execution_count": 1,
   "metadata": {},
   "outputs": [],
   "source": [
    "import numpy as np\n",
    "import pandas as pd"
   ]
  },
  {
   "cell_type": "code",
   "execution_count": 2,
   "metadata": {},
   "outputs": [],
   "source": [
    "star_wars=pd.read_csv(\"star_wars.csv\", encoding=\"ISO-8859-1\")"
   ]
  },
  {
   "cell_type": "code",
   "execution_count": 3,
   "metadata": {},
   "outputs": [
    {
     "data": {
      "text/html": [
       "<div>\n",
       "<style scoped>\n",
       "    .dataframe tbody tr th:only-of-type {\n",
       "        vertical-align: middle;\n",
       "    }\n",
       "\n",
       "    .dataframe tbody tr th {\n",
       "        vertical-align: top;\n",
       "    }\n",
       "\n",
       "    .dataframe thead th {\n",
       "        text-align: right;\n",
       "    }\n",
       "</style>\n",
       "<table border=\"1\" class=\"dataframe\">\n",
       "  <thead>\n",
       "    <tr style=\"text-align: right;\">\n",
       "      <th></th>\n",
       "      <th>RespondentID</th>\n",
       "      <th>Have you seen any of the 6 films in the Star Wars franchise?</th>\n",
       "      <th>Do you consider yourself to be a fan of the Star Wars film franchise?</th>\n",
       "      <th>Which of the following Star Wars films have you seen? Please select all that apply.</th>\n",
       "      <th>Unnamed: 4</th>\n",
       "      <th>Unnamed: 5</th>\n",
       "      <th>Unnamed: 6</th>\n",
       "      <th>Unnamed: 7</th>\n",
       "      <th>Unnamed: 8</th>\n",
       "      <th>Please rank the Star Wars films in order of preference with 1 being your favorite film in the franchise and 6 being your least favorite film.</th>\n",
       "      <th>...</th>\n",
       "      <th>Unnamed: 28</th>\n",
       "      <th>Which character shot first?</th>\n",
       "      <th>Are you familiar with the Expanded Universe?</th>\n",
       "      <th>Do you consider yourself to be a fan of the Expanded Universe?</th>\n",
       "      <th>Do you consider yourself to be a fan of the Star Trek franchise?</th>\n",
       "      <th>Gender</th>\n",
       "      <th>Age</th>\n",
       "      <th>Household Income</th>\n",
       "      <th>Education</th>\n",
       "      <th>Location (Census Region)</th>\n",
       "    </tr>\n",
       "  </thead>\n",
       "  <tbody>\n",
       "    <tr>\n",
       "      <th>0</th>\n",
       "      <td>3292879998</td>\n",
       "      <td>Yes</td>\n",
       "      <td>Yes</td>\n",
       "      <td>Star Wars: Episode I  The Phantom Menace</td>\n",
       "      <td>Star Wars: Episode II  Attack of the Clones</td>\n",
       "      <td>Star Wars: Episode III  Revenge of the Sith</td>\n",
       "      <td>Star Wars: Episode IV  A New Hope</td>\n",
       "      <td>Star Wars: Episode V The Empire Strikes Back</td>\n",
       "      <td>Star Wars: Episode VI Return of the Jedi</td>\n",
       "      <td>3.0</td>\n",
       "      <td>...</td>\n",
       "      <td>Very favorably</td>\n",
       "      <td>I don't understand this question</td>\n",
       "      <td>Yes</td>\n",
       "      <td>No</td>\n",
       "      <td>No</td>\n",
       "      <td>Male</td>\n",
       "      <td>18-29</td>\n",
       "      <td>NaN</td>\n",
       "      <td>High school degree</td>\n",
       "      <td>South Atlantic</td>\n",
       "    </tr>\n",
       "    <tr>\n",
       "      <th>1</th>\n",
       "      <td>3292879538</td>\n",
       "      <td>No</td>\n",
       "      <td>NaN</td>\n",
       "      <td>NaN</td>\n",
       "      <td>NaN</td>\n",
       "      <td>NaN</td>\n",
       "      <td>NaN</td>\n",
       "      <td>NaN</td>\n",
       "      <td>NaN</td>\n",
       "      <td>NaN</td>\n",
       "      <td>...</td>\n",
       "      <td>NaN</td>\n",
       "      <td>NaN</td>\n",
       "      <td>NaN</td>\n",
       "      <td>NaN</td>\n",
       "      <td>Yes</td>\n",
       "      <td>Male</td>\n",
       "      <td>18-29</td>\n",
       "      <td>$0 - $24,999</td>\n",
       "      <td>Bachelor degree</td>\n",
       "      <td>West South Central</td>\n",
       "    </tr>\n",
       "    <tr>\n",
       "      <th>2</th>\n",
       "      <td>3292765271</td>\n",
       "      <td>Yes</td>\n",
       "      <td>No</td>\n",
       "      <td>Star Wars: Episode I  The Phantom Menace</td>\n",
       "      <td>Star Wars: Episode II  Attack of the Clones</td>\n",
       "      <td>Star Wars: Episode III  Revenge of the Sith</td>\n",
       "      <td>NaN</td>\n",
       "      <td>NaN</td>\n",
       "      <td>NaN</td>\n",
       "      <td>1.0</td>\n",
       "      <td>...</td>\n",
       "      <td>Unfamiliar (N/A)</td>\n",
       "      <td>I don't understand this question</td>\n",
       "      <td>No</td>\n",
       "      <td>NaN</td>\n",
       "      <td>No</td>\n",
       "      <td>Male</td>\n",
       "      <td>18-29</td>\n",
       "      <td>$0 - $24,999</td>\n",
       "      <td>High school degree</td>\n",
       "      <td>West North Central</td>\n",
       "    </tr>\n",
       "    <tr>\n",
       "      <th>3</th>\n",
       "      <td>3292763116</td>\n",
       "      <td>Yes</td>\n",
       "      <td>Yes</td>\n",
       "      <td>Star Wars: Episode I  The Phantom Menace</td>\n",
       "      <td>Star Wars: Episode II  Attack of the Clones</td>\n",
       "      <td>Star Wars: Episode III  Revenge of the Sith</td>\n",
       "      <td>Star Wars: Episode IV  A New Hope</td>\n",
       "      <td>Star Wars: Episode V The Empire Strikes Back</td>\n",
       "      <td>Star Wars: Episode VI Return of the Jedi</td>\n",
       "      <td>5.0</td>\n",
       "      <td>...</td>\n",
       "      <td>Very favorably</td>\n",
       "      <td>I don't understand this question</td>\n",
       "      <td>No</td>\n",
       "      <td>NaN</td>\n",
       "      <td>Yes</td>\n",
       "      <td>Male</td>\n",
       "      <td>18-29</td>\n",
       "      <td>$100,000 - $149,999</td>\n",
       "      <td>Some college or Associate degree</td>\n",
       "      <td>West North Central</td>\n",
       "    </tr>\n",
       "    <tr>\n",
       "      <th>4</th>\n",
       "      <td>3292731220</td>\n",
       "      <td>Yes</td>\n",
       "      <td>Yes</td>\n",
       "      <td>Star Wars: Episode I  The Phantom Menace</td>\n",
       "      <td>Star Wars: Episode II  Attack of the Clones</td>\n",
       "      <td>Star Wars: Episode III  Revenge of the Sith</td>\n",
       "      <td>Star Wars: Episode IV  A New Hope</td>\n",
       "      <td>Star Wars: Episode V The Empire Strikes Back</td>\n",
       "      <td>Star Wars: Episode VI Return of the Jedi</td>\n",
       "      <td>5.0</td>\n",
       "      <td>...</td>\n",
       "      <td>Somewhat favorably</td>\n",
       "      <td>Greedo</td>\n",
       "      <td>Yes</td>\n",
       "      <td>No</td>\n",
       "      <td>No</td>\n",
       "      <td>Male</td>\n",
       "      <td>18-29</td>\n",
       "      <td>$100,000 - $149,999</td>\n",
       "      <td>Some college or Associate degree</td>\n",
       "      <td>West North Central</td>\n",
       "    </tr>\n",
       "    <tr>\n",
       "      <th>5</th>\n",
       "      <td>3292719380</td>\n",
       "      <td>Yes</td>\n",
       "      <td>Yes</td>\n",
       "      <td>Star Wars: Episode I  The Phantom Menace</td>\n",
       "      <td>Star Wars: Episode II  Attack of the Clones</td>\n",
       "      <td>Star Wars: Episode III  Revenge of the Sith</td>\n",
       "      <td>Star Wars: Episode IV  A New Hope</td>\n",
       "      <td>Star Wars: Episode V The Empire Strikes Back</td>\n",
       "      <td>Star Wars: Episode VI Return of the Jedi</td>\n",
       "      <td>1.0</td>\n",
       "      <td>...</td>\n",
       "      <td>Very favorably</td>\n",
       "      <td>Han</td>\n",
       "      <td>Yes</td>\n",
       "      <td>No</td>\n",
       "      <td>Yes</td>\n",
       "      <td>Male</td>\n",
       "      <td>18-29</td>\n",
       "      <td>$25,000 - $49,999</td>\n",
       "      <td>Bachelor degree</td>\n",
       "      <td>Middle Atlantic</td>\n",
       "    </tr>\n",
       "    <tr>\n",
       "      <th>6</th>\n",
       "      <td>3292684787</td>\n",
       "      <td>Yes</td>\n",
       "      <td>Yes</td>\n",
       "      <td>Star Wars: Episode I  The Phantom Menace</td>\n",
       "      <td>Star Wars: Episode II  Attack of the Clones</td>\n",
       "      <td>Star Wars: Episode III  Revenge of the Sith</td>\n",
       "      <td>Star Wars: Episode IV  A New Hope</td>\n",
       "      <td>Star Wars: Episode V The Empire Strikes Back</td>\n",
       "      <td>Star Wars: Episode VI Return of the Jedi</td>\n",
       "      <td>6.0</td>\n",
       "      <td>...</td>\n",
       "      <td>Very favorably</td>\n",
       "      <td>Han</td>\n",
       "      <td>Yes</td>\n",
       "      <td>No</td>\n",
       "      <td>No</td>\n",
       "      <td>Male</td>\n",
       "      <td>18-29</td>\n",
       "      <td>NaN</td>\n",
       "      <td>High school degree</td>\n",
       "      <td>East North Central</td>\n",
       "    </tr>\n",
       "    <tr>\n",
       "      <th>7</th>\n",
       "      <td>3292663732</td>\n",
       "      <td>Yes</td>\n",
       "      <td>Yes</td>\n",
       "      <td>Star Wars: Episode I  The Phantom Menace</td>\n",
       "      <td>Star Wars: Episode II  Attack of the Clones</td>\n",
       "      <td>Star Wars: Episode III  Revenge of the Sith</td>\n",
       "      <td>Star Wars: Episode IV  A New Hope</td>\n",
       "      <td>Star Wars: Episode V The Empire Strikes Back</td>\n",
       "      <td>Star Wars: Episode VI Return of the Jedi</td>\n",
       "      <td>4.0</td>\n",
       "      <td>...</td>\n",
       "      <td>Very favorably</td>\n",
       "      <td>Han</td>\n",
       "      <td>No</td>\n",
       "      <td>NaN</td>\n",
       "      <td>Yes</td>\n",
       "      <td>Male</td>\n",
       "      <td>18-29</td>\n",
       "      <td>NaN</td>\n",
       "      <td>High school degree</td>\n",
       "      <td>South Atlantic</td>\n",
       "    </tr>\n",
       "    <tr>\n",
       "      <th>8</th>\n",
       "      <td>3292654043</td>\n",
       "      <td>Yes</td>\n",
       "      <td>Yes</td>\n",
       "      <td>Star Wars: Episode I  The Phantom Menace</td>\n",
       "      <td>Star Wars: Episode II  Attack of the Clones</td>\n",
       "      <td>Star Wars: Episode III  Revenge of the Sith</td>\n",
       "      <td>Star Wars: Episode IV  A New Hope</td>\n",
       "      <td>Star Wars: Episode V The Empire Strikes Back</td>\n",
       "      <td>Star Wars: Episode VI Return of the Jedi</td>\n",
       "      <td>5.0</td>\n",
       "      <td>...</td>\n",
       "      <td>Somewhat favorably</td>\n",
       "      <td>Han</td>\n",
       "      <td>No</td>\n",
       "      <td>NaN</td>\n",
       "      <td>No</td>\n",
       "      <td>Male</td>\n",
       "      <td>18-29</td>\n",
       "      <td>$0 - $24,999</td>\n",
       "      <td>Some college or Associate degree</td>\n",
       "      <td>South Atlantic</td>\n",
       "    </tr>\n",
       "    <tr>\n",
       "      <th>9</th>\n",
       "      <td>3292640424</td>\n",
       "      <td>Yes</td>\n",
       "      <td>No</td>\n",
       "      <td>NaN</td>\n",
       "      <td>Star Wars: Episode II  Attack of the Clones</td>\n",
       "      <td>NaN</td>\n",
       "      <td>NaN</td>\n",
       "      <td>NaN</td>\n",
       "      <td>NaN</td>\n",
       "      <td>1.0</td>\n",
       "      <td>...</td>\n",
       "      <td>Very favorably</td>\n",
       "      <td>I don't understand this question</td>\n",
       "      <td>No</td>\n",
       "      <td>NaN</td>\n",
       "      <td>No</td>\n",
       "      <td>Male</td>\n",
       "      <td>18-29</td>\n",
       "      <td>$25,000 - $49,999</td>\n",
       "      <td>Some college or Associate degree</td>\n",
       "      <td>Pacific</td>\n",
       "    </tr>\n",
       "  </tbody>\n",
       "</table>\n",
       "<p>10 rows × 38 columns</p>\n",
       "</div>"
      ],
      "text/plain": [
       "   RespondentID Have you seen any of the 6 films in the Star Wars franchise?  \\\n",
       "0    3292879998                                                Yes             \n",
       "1    3292879538                                                 No             \n",
       "2    3292765271                                                Yes             \n",
       "3    3292763116                                                Yes             \n",
       "4    3292731220                                                Yes             \n",
       "5    3292719380                                                Yes             \n",
       "6    3292684787                                                Yes             \n",
       "7    3292663732                                                Yes             \n",
       "8    3292654043                                                Yes             \n",
       "9    3292640424                                                Yes             \n",
       "\n",
       "  Do you consider yourself to be a fan of the Star Wars film franchise?  \\\n",
       "0                                                Yes                      \n",
       "1                                                NaN                      \n",
       "2                                                 No                      \n",
       "3                                                Yes                      \n",
       "4                                                Yes                      \n",
       "5                                                Yes                      \n",
       "6                                                Yes                      \n",
       "7                                                Yes                      \n",
       "8                                                Yes                      \n",
       "9                                                 No                      \n",
       "\n",
       "  Which of the following Star Wars films have you seen? Please select all that apply.  \\\n",
       "0           Star Wars: Episode I  The Phantom Menace                                    \n",
       "1                                                NaN                                    \n",
       "2           Star Wars: Episode I  The Phantom Menace                                    \n",
       "3           Star Wars: Episode I  The Phantom Menace                                    \n",
       "4           Star Wars: Episode I  The Phantom Menace                                    \n",
       "5           Star Wars: Episode I  The Phantom Menace                                    \n",
       "6           Star Wars: Episode I  The Phantom Menace                                    \n",
       "7           Star Wars: Episode I  The Phantom Menace                                    \n",
       "8           Star Wars: Episode I  The Phantom Menace                                    \n",
       "9                                                NaN                                    \n",
       "\n",
       "                                    Unnamed: 4  \\\n",
       "0  Star Wars: Episode II  Attack of the Clones   \n",
       "1                                          NaN   \n",
       "2  Star Wars: Episode II  Attack of the Clones   \n",
       "3  Star Wars: Episode II  Attack of the Clones   \n",
       "4  Star Wars: Episode II  Attack of the Clones   \n",
       "5  Star Wars: Episode II  Attack of the Clones   \n",
       "6  Star Wars: Episode II  Attack of the Clones   \n",
       "7  Star Wars: Episode II  Attack of the Clones   \n",
       "8  Star Wars: Episode II  Attack of the Clones   \n",
       "9  Star Wars: Episode II  Attack of the Clones   \n",
       "\n",
       "                                    Unnamed: 5  \\\n",
       "0  Star Wars: Episode III  Revenge of the Sith   \n",
       "1                                          NaN   \n",
       "2  Star Wars: Episode III  Revenge of the Sith   \n",
       "3  Star Wars: Episode III  Revenge of the Sith   \n",
       "4  Star Wars: Episode III  Revenge of the Sith   \n",
       "5  Star Wars: Episode III  Revenge of the Sith   \n",
       "6  Star Wars: Episode III  Revenge of the Sith   \n",
       "7  Star Wars: Episode III  Revenge of the Sith   \n",
       "8  Star Wars: Episode III  Revenge of the Sith   \n",
       "9                                          NaN   \n",
       "\n",
       "                          Unnamed: 6  \\\n",
       "0  Star Wars: Episode IV  A New Hope   \n",
       "1                                NaN   \n",
       "2                                NaN   \n",
       "3  Star Wars: Episode IV  A New Hope   \n",
       "4  Star Wars: Episode IV  A New Hope   \n",
       "5  Star Wars: Episode IV  A New Hope   \n",
       "6  Star Wars: Episode IV  A New Hope   \n",
       "7  Star Wars: Episode IV  A New Hope   \n",
       "8  Star Wars: Episode IV  A New Hope   \n",
       "9                                NaN   \n",
       "\n",
       "                                     Unnamed: 7  \\\n",
       "0  Star Wars: Episode V The Empire Strikes Back   \n",
       "1                                           NaN   \n",
       "2                                           NaN   \n",
       "3  Star Wars: Episode V The Empire Strikes Back   \n",
       "4  Star Wars: Episode V The Empire Strikes Back   \n",
       "5  Star Wars: Episode V The Empire Strikes Back   \n",
       "6  Star Wars: Episode V The Empire Strikes Back   \n",
       "7  Star Wars: Episode V The Empire Strikes Back   \n",
       "8  Star Wars: Episode V The Empire Strikes Back   \n",
       "9                                           NaN   \n",
       "\n",
       "                                 Unnamed: 8  \\\n",
       "0  Star Wars: Episode VI Return of the Jedi   \n",
       "1                                       NaN   \n",
       "2                                       NaN   \n",
       "3  Star Wars: Episode VI Return of the Jedi   \n",
       "4  Star Wars: Episode VI Return of the Jedi   \n",
       "5  Star Wars: Episode VI Return of the Jedi   \n",
       "6  Star Wars: Episode VI Return of the Jedi   \n",
       "7  Star Wars: Episode VI Return of the Jedi   \n",
       "8  Star Wars: Episode VI Return of the Jedi   \n",
       "9                                       NaN   \n",
       "\n",
       "   Please rank the Star Wars films in order of preference with 1 being your favorite film in the franchise and 6 being your least favorite film.  \\\n",
       "0                                                3.0                                                                                               \n",
       "1                                                NaN                                                                                               \n",
       "2                                                1.0                                                                                               \n",
       "3                                                5.0                                                                                               \n",
       "4                                                5.0                                                                                               \n",
       "5                                                1.0                                                                                               \n",
       "6                                                6.0                                                                                               \n",
       "7                                                4.0                                                                                               \n",
       "8                                                5.0                                                                                               \n",
       "9                                                1.0                                                                                               \n",
       "\n",
       "   ...         Unnamed: 28       Which character shot first?  \\\n",
       "0  ...      Very favorably  I don't understand this question   \n",
       "1  ...                 NaN                               NaN   \n",
       "2  ...    Unfamiliar (N/A)  I don't understand this question   \n",
       "3  ...      Very favorably  I don't understand this question   \n",
       "4  ...  Somewhat favorably                            Greedo   \n",
       "5  ...      Very favorably                               Han   \n",
       "6  ...      Very favorably                               Han   \n",
       "7  ...      Very favorably                               Han   \n",
       "8  ...  Somewhat favorably                               Han   \n",
       "9  ...      Very favorably  I don't understand this question   \n",
       "\n",
       "   Are you familiar with the Expanded Universe?  \\\n",
       "0                                           Yes   \n",
       "1                                           NaN   \n",
       "2                                            No   \n",
       "3                                            No   \n",
       "4                                           Yes   \n",
       "5                                           Yes   \n",
       "6                                           Yes   \n",
       "7                                            No   \n",
       "8                                            No   \n",
       "9                                            No   \n",
       "\n",
       "   Do you consider yourself to be a fan of the Expanded Universe?  \\\n",
       "0                                                 No                \n",
       "1                                                NaN                \n",
       "2                                                NaN                \n",
       "3                                                NaN                \n",
       "4                                                 No                \n",
       "5                                                 No                \n",
       "6                                                 No                \n",
       "7                                                NaN                \n",
       "8                                                NaN                \n",
       "9                                                NaN                \n",
       "\n",
       "   Do you consider yourself to be a fan of the Star Trek franchise? Gender  \\\n",
       "0                                                 No                  Male   \n",
       "1                                                Yes                  Male   \n",
       "2                                                 No                  Male   \n",
       "3                                                Yes                  Male   \n",
       "4                                                 No                  Male   \n",
       "5                                                Yes                  Male   \n",
       "6                                                 No                  Male   \n",
       "7                                                Yes                  Male   \n",
       "8                                                 No                  Male   \n",
       "9                                                 No                  Male   \n",
       "\n",
       "     Age     Household Income                         Education  \\\n",
       "0  18-29                  NaN                High school degree   \n",
       "1  18-29         $0 - $24,999                   Bachelor degree   \n",
       "2  18-29         $0 - $24,999                High school degree   \n",
       "3  18-29  $100,000 - $149,999  Some college or Associate degree   \n",
       "4  18-29  $100,000 - $149,999  Some college or Associate degree   \n",
       "5  18-29    $25,000 - $49,999                   Bachelor degree   \n",
       "6  18-29                  NaN                High school degree   \n",
       "7  18-29                  NaN                High school degree   \n",
       "8  18-29         $0 - $24,999  Some college or Associate degree   \n",
       "9  18-29    $25,000 - $49,999  Some college or Associate degree   \n",
       "\n",
       "  Location (Census Region)  \n",
       "0           South Atlantic  \n",
       "1       West South Central  \n",
       "2       West North Central  \n",
       "3       West North Central  \n",
       "4       West North Central  \n",
       "5          Middle Atlantic  \n",
       "6       East North Central  \n",
       "7           South Atlantic  \n",
       "8           South Atlantic  \n",
       "9                  Pacific  \n",
       "\n",
       "[10 rows x 38 columns]"
      ]
     },
     "execution_count": 3,
     "metadata": {},
     "output_type": "execute_result"
    }
   ],
   "source": [
    "star_wars.head(10)"
   ]
  },
  {
   "cell_type": "code",
   "execution_count": 4,
   "metadata": {},
   "outputs": [
    {
     "data": {
      "text/plain": [
       "Index(['RespondentID',\n",
       "       'Have you seen any of the 6 films in the Star Wars franchise?',\n",
       "       'Do you consider yourself to be a fan of the Star Wars film franchise?',\n",
       "       'Which of the following Star Wars films have you seen? Please select all that apply.',\n",
       "       'Unnamed: 4', 'Unnamed: 5', 'Unnamed: 6', 'Unnamed: 7', 'Unnamed: 8',\n",
       "       'Please rank the Star Wars films in order of preference with 1 being your favorite film in the franchise and 6 being your least favorite film.',\n",
       "       'Unnamed: 10', 'Unnamed: 11', 'Unnamed: 12', 'Unnamed: 13',\n",
       "       'Unnamed: 14',\n",
       "       'Please state whether you view the following characters favorably, unfavorably, or are unfamiliar with him/her.',\n",
       "       'Unnamed: 16', 'Unnamed: 17', 'Unnamed: 18', 'Unnamed: 19',\n",
       "       'Unnamed: 20', 'Unnamed: 21', 'Unnamed: 22', 'Unnamed: 23',\n",
       "       'Unnamed: 24', 'Unnamed: 25', 'Unnamed: 26', 'Unnamed: 27',\n",
       "       'Unnamed: 28', 'Which character shot first?',\n",
       "       'Are you familiar with the Expanded Universe?',\n",
       "       'Do you consider yourself to be a fan of the Expanded Universe?',\n",
       "       'Do you consider yourself to be a fan of the Star Trek franchise?',\n",
       "       'Gender', 'Age', 'Household Income', 'Education',\n",
       "       'Location (Census Region)'],\n",
       "      dtype='object')"
      ]
     },
     "execution_count": 4,
     "metadata": {},
     "output_type": "execute_result"
    }
   ],
   "source": [
    "star_wars.columns"
   ]
  },
  {
   "cell_type": "code",
   "execution_count": 5,
   "metadata": {},
   "outputs": [
    {
     "name": "stdout",
     "output_type": "stream",
     "text": [
      "Yes    936\n",
      "No     250\n",
      "Name: Have you seen any of the 6 films in the Star Wars franchise?, dtype: int64\n"
     ]
    }
   ],
   "source": [
    "print(star_wars[\"Have you seen any of the 6 films in the Star Wars franchise?\"].value_counts(dropna=False))\n",
    "star_wars[\"Have you seen any of the 6 films in the Star Wars franchise?\"].replace({\"Yes\":True,\"No\":False}, inplace=True)"
   ]
  },
  {
   "cell_type": "code",
   "execution_count": 6,
   "metadata": {},
   "outputs": [
    {
     "name": "stdout",
     "output_type": "stream",
     "text": [
      "Yes    552\n",
      "NaN    350\n",
      "No     284\n",
      "Name: Do you consider yourself to be a fan of the Star Wars film franchise?, dtype: int64\n"
     ]
    }
   ],
   "source": [
    "print(star_wars[\"Do you consider yourself to be a fan of the Star Wars film franchise?\"].value_counts(dropna=False))\n",
    "star_wars[\"Do you consider yourself to be a fan of the Star Wars film franchise?\"].replace({\"Yes\":True,\"No\":False}, inplace=True)"
   ]
  },
  {
   "cell_type": "code",
   "execution_count": 7,
   "metadata": {},
   "outputs": [
    {
     "name": "stdout",
     "output_type": "stream",
     "text": [
      "Index(['RespondentID',\n",
      "       'Have you seen any of the 6 films in the Star Wars franchise?',\n",
      "       'Do you consider yourself to be a fan of the Star Wars film franchise?',\n",
      "       'seen_1', 'seen_2', 'seen_3', 'seen_4', 'seen_5', 'seen_6',\n",
      "       'Please rank the Star Wars films in order of preference with 1 being your favorite film in the franchise and 6 being your least favorite film.',\n",
      "       'Unnamed: 10', 'Unnamed: 11', 'Unnamed: 12', 'Unnamed: 13',\n",
      "       'Unnamed: 14',\n",
      "       'Please state whether you view the following characters favorably, unfavorably, or are unfamiliar with him/her.',\n",
      "       'Unnamed: 16', 'Unnamed: 17', 'Unnamed: 18', 'Unnamed: 19',\n",
      "       'Unnamed: 20', 'Unnamed: 21', 'Unnamed: 22', 'Unnamed: 23',\n",
      "       'Unnamed: 24', 'Unnamed: 25', 'Unnamed: 26', 'Unnamed: 27',\n",
      "       'Unnamed: 28', 'Which character shot first?',\n",
      "       'Are you familiar with the Expanded Universe?',\n",
      "       'Do you consider yourself to be a fan of the Expanded Universe?',\n",
      "       'Do you consider yourself to be a fan of the Star Trek franchise?',\n",
      "       'Gender', 'Age', 'Household Income', 'Education',\n",
      "       'Location (Census Region)'],\n",
      "      dtype='object')\n",
      "{'seen_1': {'Star Wars: Episode I  The Phantom Menace': True, nan: False}, 'seen_2': {'Star Wars: Episode II  Attack of the Clones': True, nan: False}, 'seen_3': {'Star Wars: Episode III  Revenge of the Sith': True, nan: False}, 'seen_4': {'Star Wars: Episode IV  A New Hope': True, nan: False}, 'seen_5': {'Star Wars: Episode V The Empire Strikes Back': True, nan: False}, 'seen_6': {'Star Wars: Episode VI Return of the Jedi': True, nan: False}}\n"
     ]
    },
    {
     "data": {
      "text/html": [
       "<div>\n",
       "<style scoped>\n",
       "    .dataframe tbody tr th:only-of-type {\n",
       "        vertical-align: middle;\n",
       "    }\n",
       "\n",
       "    .dataframe tbody tr th {\n",
       "        vertical-align: top;\n",
       "    }\n",
       "\n",
       "    .dataframe thead th {\n",
       "        text-align: right;\n",
       "    }\n",
       "</style>\n",
       "<table border=\"1\" class=\"dataframe\">\n",
       "  <thead>\n",
       "    <tr style=\"text-align: right;\">\n",
       "      <th></th>\n",
       "      <th>RespondentID</th>\n",
       "      <th>Have you seen any of the 6 films in the Star Wars franchise?</th>\n",
       "      <th>Do you consider yourself to be a fan of the Star Wars film franchise?</th>\n",
       "      <th>seen_1</th>\n",
       "      <th>seen_2</th>\n",
       "      <th>seen_3</th>\n",
       "      <th>seen_4</th>\n",
       "      <th>seen_5</th>\n",
       "      <th>seen_6</th>\n",
       "      <th>Please rank the Star Wars films in order of preference with 1 being your favorite film in the franchise and 6 being your least favorite film.</th>\n",
       "      <th>...</th>\n",
       "      <th>Unnamed: 28</th>\n",
       "      <th>Which character shot first?</th>\n",
       "      <th>Are you familiar with the Expanded Universe?</th>\n",
       "      <th>Do you consider yourself to be a fan of the Expanded Universe?</th>\n",
       "      <th>Do you consider yourself to be a fan of the Star Trek franchise?</th>\n",
       "      <th>Gender</th>\n",
       "      <th>Age</th>\n",
       "      <th>Household Income</th>\n",
       "      <th>Education</th>\n",
       "      <th>Location (Census Region)</th>\n",
       "    </tr>\n",
       "  </thead>\n",
       "  <tbody>\n",
       "    <tr>\n",
       "      <th>0</th>\n",
       "      <td>3292879998</td>\n",
       "      <td>True</td>\n",
       "      <td>True</td>\n",
       "      <td>True</td>\n",
       "      <td>True</td>\n",
       "      <td>True</td>\n",
       "      <td>True</td>\n",
       "      <td>True</td>\n",
       "      <td>True</td>\n",
       "      <td>3.0</td>\n",
       "      <td>...</td>\n",
       "      <td>Very favorably</td>\n",
       "      <td>I don't understand this question</td>\n",
       "      <td>Yes</td>\n",
       "      <td>No</td>\n",
       "      <td>No</td>\n",
       "      <td>Male</td>\n",
       "      <td>18-29</td>\n",
       "      <td>NaN</td>\n",
       "      <td>High school degree</td>\n",
       "      <td>South Atlantic</td>\n",
       "    </tr>\n",
       "    <tr>\n",
       "      <th>1</th>\n",
       "      <td>3292879538</td>\n",
       "      <td>False</td>\n",
       "      <td>NaN</td>\n",
       "      <td>False</td>\n",
       "      <td>False</td>\n",
       "      <td>False</td>\n",
       "      <td>False</td>\n",
       "      <td>False</td>\n",
       "      <td>False</td>\n",
       "      <td>NaN</td>\n",
       "      <td>...</td>\n",
       "      <td>NaN</td>\n",
       "      <td>NaN</td>\n",
       "      <td>NaN</td>\n",
       "      <td>NaN</td>\n",
       "      <td>Yes</td>\n",
       "      <td>Male</td>\n",
       "      <td>18-29</td>\n",
       "      <td>$0 - $24,999</td>\n",
       "      <td>Bachelor degree</td>\n",
       "      <td>West South Central</td>\n",
       "    </tr>\n",
       "    <tr>\n",
       "      <th>2</th>\n",
       "      <td>3292765271</td>\n",
       "      <td>True</td>\n",
       "      <td>False</td>\n",
       "      <td>True</td>\n",
       "      <td>True</td>\n",
       "      <td>True</td>\n",
       "      <td>False</td>\n",
       "      <td>False</td>\n",
       "      <td>False</td>\n",
       "      <td>1.0</td>\n",
       "      <td>...</td>\n",
       "      <td>Unfamiliar (N/A)</td>\n",
       "      <td>I don't understand this question</td>\n",
       "      <td>No</td>\n",
       "      <td>NaN</td>\n",
       "      <td>No</td>\n",
       "      <td>Male</td>\n",
       "      <td>18-29</td>\n",
       "      <td>$0 - $24,999</td>\n",
       "      <td>High school degree</td>\n",
       "      <td>West North Central</td>\n",
       "    </tr>\n",
       "    <tr>\n",
       "      <th>3</th>\n",
       "      <td>3292763116</td>\n",
       "      <td>True</td>\n",
       "      <td>True</td>\n",
       "      <td>True</td>\n",
       "      <td>True</td>\n",
       "      <td>True</td>\n",
       "      <td>True</td>\n",
       "      <td>True</td>\n",
       "      <td>True</td>\n",
       "      <td>5.0</td>\n",
       "      <td>...</td>\n",
       "      <td>Very favorably</td>\n",
       "      <td>I don't understand this question</td>\n",
       "      <td>No</td>\n",
       "      <td>NaN</td>\n",
       "      <td>Yes</td>\n",
       "      <td>Male</td>\n",
       "      <td>18-29</td>\n",
       "      <td>$100,000 - $149,999</td>\n",
       "      <td>Some college or Associate degree</td>\n",
       "      <td>West North Central</td>\n",
       "    </tr>\n",
       "    <tr>\n",
       "      <th>4</th>\n",
       "      <td>3292731220</td>\n",
       "      <td>True</td>\n",
       "      <td>True</td>\n",
       "      <td>True</td>\n",
       "      <td>True</td>\n",
       "      <td>True</td>\n",
       "      <td>True</td>\n",
       "      <td>True</td>\n",
       "      <td>True</td>\n",
       "      <td>5.0</td>\n",
       "      <td>...</td>\n",
       "      <td>Somewhat favorably</td>\n",
       "      <td>Greedo</td>\n",
       "      <td>Yes</td>\n",
       "      <td>No</td>\n",
       "      <td>No</td>\n",
       "      <td>Male</td>\n",
       "      <td>18-29</td>\n",
       "      <td>$100,000 - $149,999</td>\n",
       "      <td>Some college or Associate degree</td>\n",
       "      <td>West North Central</td>\n",
       "    </tr>\n",
       "    <tr>\n",
       "      <th>...</th>\n",
       "      <td>...</td>\n",
       "      <td>...</td>\n",
       "      <td>...</td>\n",
       "      <td>...</td>\n",
       "      <td>...</td>\n",
       "      <td>...</td>\n",
       "      <td>...</td>\n",
       "      <td>...</td>\n",
       "      <td>...</td>\n",
       "      <td>...</td>\n",
       "      <td>...</td>\n",
       "      <td>...</td>\n",
       "      <td>...</td>\n",
       "      <td>...</td>\n",
       "      <td>...</td>\n",
       "      <td>...</td>\n",
       "      <td>...</td>\n",
       "      <td>...</td>\n",
       "      <td>...</td>\n",
       "      <td>...</td>\n",
       "      <td>...</td>\n",
       "    </tr>\n",
       "    <tr>\n",
       "      <th>1181</th>\n",
       "      <td>3288388730</td>\n",
       "      <td>True</td>\n",
       "      <td>True</td>\n",
       "      <td>True</td>\n",
       "      <td>True</td>\n",
       "      <td>True</td>\n",
       "      <td>True</td>\n",
       "      <td>True</td>\n",
       "      <td>True</td>\n",
       "      <td>5.0</td>\n",
       "      <td>...</td>\n",
       "      <td>Very favorably</td>\n",
       "      <td>Han</td>\n",
       "      <td>No</td>\n",
       "      <td>NaN</td>\n",
       "      <td>Yes</td>\n",
       "      <td>Female</td>\n",
       "      <td>18-29</td>\n",
       "      <td>$0 - $24,999</td>\n",
       "      <td>Some college or Associate degree</td>\n",
       "      <td>East North Central</td>\n",
       "    </tr>\n",
       "    <tr>\n",
       "      <th>1182</th>\n",
       "      <td>3288378779</td>\n",
       "      <td>True</td>\n",
       "      <td>True</td>\n",
       "      <td>True</td>\n",
       "      <td>True</td>\n",
       "      <td>True</td>\n",
       "      <td>True</td>\n",
       "      <td>True</td>\n",
       "      <td>True</td>\n",
       "      <td>4.0</td>\n",
       "      <td>...</td>\n",
       "      <td>Very favorably</td>\n",
       "      <td>I don't understand this question</td>\n",
       "      <td>No</td>\n",
       "      <td>NaN</td>\n",
       "      <td>Yes</td>\n",
       "      <td>Female</td>\n",
       "      <td>30-44</td>\n",
       "      <td>$50,000 - $99,999</td>\n",
       "      <td>Bachelor degree</td>\n",
       "      <td>Mountain</td>\n",
       "    </tr>\n",
       "    <tr>\n",
       "      <th>1183</th>\n",
       "      <td>3288375286</td>\n",
       "      <td>False</td>\n",
       "      <td>NaN</td>\n",
       "      <td>False</td>\n",
       "      <td>False</td>\n",
       "      <td>False</td>\n",
       "      <td>False</td>\n",
       "      <td>False</td>\n",
       "      <td>False</td>\n",
       "      <td>NaN</td>\n",
       "      <td>...</td>\n",
       "      <td>NaN</td>\n",
       "      <td>NaN</td>\n",
       "      <td>NaN</td>\n",
       "      <td>NaN</td>\n",
       "      <td>No</td>\n",
       "      <td>Female</td>\n",
       "      <td>30-44</td>\n",
       "      <td>$50,000 - $99,999</td>\n",
       "      <td>Bachelor degree</td>\n",
       "      <td>Middle Atlantic</td>\n",
       "    </tr>\n",
       "    <tr>\n",
       "      <th>1184</th>\n",
       "      <td>3288373068</td>\n",
       "      <td>True</td>\n",
       "      <td>True</td>\n",
       "      <td>True</td>\n",
       "      <td>True</td>\n",
       "      <td>True</td>\n",
       "      <td>True</td>\n",
       "      <td>True</td>\n",
       "      <td>True</td>\n",
       "      <td>4.0</td>\n",
       "      <td>...</td>\n",
       "      <td>Very favorably</td>\n",
       "      <td>Han</td>\n",
       "      <td>No</td>\n",
       "      <td>NaN</td>\n",
       "      <td>Yes</td>\n",
       "      <td>Female</td>\n",
       "      <td>45-60</td>\n",
       "      <td>$100,000 - $149,999</td>\n",
       "      <td>Some college or Associate degree</td>\n",
       "      <td>East North Central</td>\n",
       "    </tr>\n",
       "    <tr>\n",
       "      <th>1185</th>\n",
       "      <td>3288372923</td>\n",
       "      <td>True</td>\n",
       "      <td>False</td>\n",
       "      <td>True</td>\n",
       "      <td>True</td>\n",
       "      <td>False</td>\n",
       "      <td>False</td>\n",
       "      <td>True</td>\n",
       "      <td>True</td>\n",
       "      <td>6.0</td>\n",
       "      <td>...</td>\n",
       "      <td>Very unfavorably</td>\n",
       "      <td>I don't understand this question</td>\n",
       "      <td>No</td>\n",
       "      <td>NaN</td>\n",
       "      <td>No</td>\n",
       "      <td>Female</td>\n",
       "      <td>&gt; 60</td>\n",
       "      <td>$50,000 - $99,999</td>\n",
       "      <td>Graduate degree</td>\n",
       "      <td>Pacific</td>\n",
       "    </tr>\n",
       "  </tbody>\n",
       "</table>\n",
       "<p>1186 rows × 38 columns</p>\n",
       "</div>"
      ],
      "text/plain": [
       "      RespondentID  \\\n",
       "0       3292879998   \n",
       "1       3292879538   \n",
       "2       3292765271   \n",
       "3       3292763116   \n",
       "4       3292731220   \n",
       "...            ...   \n",
       "1181    3288388730   \n",
       "1182    3288378779   \n",
       "1183    3288375286   \n",
       "1184    3288373068   \n",
       "1185    3288372923   \n",
       "\n",
       "      Have you seen any of the 6 films in the Star Wars franchise?  \\\n",
       "0                                                  True              \n",
       "1                                                 False              \n",
       "2                                                  True              \n",
       "3                                                  True              \n",
       "4                                                  True              \n",
       "...                                                 ...              \n",
       "1181                                               True              \n",
       "1182                                               True              \n",
       "1183                                              False              \n",
       "1184                                               True              \n",
       "1185                                               True              \n",
       "\n",
       "     Do you consider yourself to be a fan of the Star Wars film franchise?  \\\n",
       "0                                                  True                      \n",
       "1                                                   NaN                      \n",
       "2                                                 False                      \n",
       "3                                                  True                      \n",
       "4                                                  True                      \n",
       "...                                                 ...                      \n",
       "1181                                               True                      \n",
       "1182                                               True                      \n",
       "1183                                                NaN                      \n",
       "1184                                               True                      \n",
       "1185                                              False                      \n",
       "\n",
       "      seen_1  seen_2  seen_3  seen_4  seen_5  seen_6  \\\n",
       "0       True    True    True    True    True    True   \n",
       "1      False   False   False   False   False   False   \n",
       "2       True    True    True   False   False   False   \n",
       "3       True    True    True    True    True    True   \n",
       "4       True    True    True    True    True    True   \n",
       "...      ...     ...     ...     ...     ...     ...   \n",
       "1181    True    True    True    True    True    True   \n",
       "1182    True    True    True    True    True    True   \n",
       "1183   False   False   False   False   False   False   \n",
       "1184    True    True    True    True    True    True   \n",
       "1185    True    True   False   False    True    True   \n",
       "\n",
       "      Please rank the Star Wars films in order of preference with 1 being your favorite film in the franchise and 6 being your least favorite film.  \\\n",
       "0                                                   3.0                                                                                               \n",
       "1                                                   NaN                                                                                               \n",
       "2                                                   1.0                                                                                               \n",
       "3                                                   5.0                                                                                               \n",
       "4                                                   5.0                                                                                               \n",
       "...                                                 ...                                                                                               \n",
       "1181                                                5.0                                                                                               \n",
       "1182                                                4.0                                                                                               \n",
       "1183                                                NaN                                                                                               \n",
       "1184                                                4.0                                                                                               \n",
       "1185                                                6.0                                                                                               \n",
       "\n",
       "      ...         Unnamed: 28       Which character shot first?  \\\n",
       "0     ...      Very favorably  I don't understand this question   \n",
       "1     ...                 NaN                               NaN   \n",
       "2     ...    Unfamiliar (N/A)  I don't understand this question   \n",
       "3     ...      Very favorably  I don't understand this question   \n",
       "4     ...  Somewhat favorably                            Greedo   \n",
       "...   ...                 ...                               ...   \n",
       "1181  ...      Very favorably                               Han   \n",
       "1182  ...      Very favorably  I don't understand this question   \n",
       "1183  ...                 NaN                               NaN   \n",
       "1184  ...      Very favorably                               Han   \n",
       "1185  ...    Very unfavorably  I don't understand this question   \n",
       "\n",
       "      Are you familiar with the Expanded Universe?  \\\n",
       "0                                              Yes   \n",
       "1                                              NaN   \n",
       "2                                               No   \n",
       "3                                               No   \n",
       "4                                              Yes   \n",
       "...                                            ...   \n",
       "1181                                            No   \n",
       "1182                                            No   \n",
       "1183                                           NaN   \n",
       "1184                                            No   \n",
       "1185                                            No   \n",
       "\n",
       "      Do you consider yourself to be a fan of the Expanded Universe?  \\\n",
       "0                                                    No                \n",
       "1                                                   NaN                \n",
       "2                                                   NaN                \n",
       "3                                                   NaN                \n",
       "4                                                    No                \n",
       "...                                                 ...                \n",
       "1181                                                NaN                \n",
       "1182                                                NaN                \n",
       "1183                                                NaN                \n",
       "1184                                                NaN                \n",
       "1185                                                NaN                \n",
       "\n",
       "      Do you consider yourself to be a fan of the Star Trek franchise?  \\\n",
       "0                                                    No                  \n",
       "1                                                   Yes                  \n",
       "2                                                    No                  \n",
       "3                                                   Yes                  \n",
       "4                                                    No                  \n",
       "...                                                 ...                  \n",
       "1181                                                Yes                  \n",
       "1182                                                Yes                  \n",
       "1183                                                 No                  \n",
       "1184                                                Yes                  \n",
       "1185                                                 No                  \n",
       "\n",
       "      Gender    Age     Household Income                         Education  \\\n",
       "0       Male  18-29                  NaN                High school degree   \n",
       "1       Male  18-29         $0 - $24,999                   Bachelor degree   \n",
       "2       Male  18-29         $0 - $24,999                High school degree   \n",
       "3       Male  18-29  $100,000 - $149,999  Some college or Associate degree   \n",
       "4       Male  18-29  $100,000 - $149,999  Some college or Associate degree   \n",
       "...      ...    ...                  ...                               ...   \n",
       "1181  Female  18-29         $0 - $24,999  Some college or Associate degree   \n",
       "1182  Female  30-44    $50,000 - $99,999                   Bachelor degree   \n",
       "1183  Female  30-44    $50,000 - $99,999                   Bachelor degree   \n",
       "1184  Female  45-60  $100,000 - $149,999  Some college or Associate degree   \n",
       "1185  Female   > 60    $50,000 - $99,999                   Graduate degree   \n",
       "\n",
       "     Location (Census Region)  \n",
       "0              South Atlantic  \n",
       "1          West South Central  \n",
       "2          West North Central  \n",
       "3          West North Central  \n",
       "4          West North Central  \n",
       "...                       ...  \n",
       "1181       East North Central  \n",
       "1182                 Mountain  \n",
       "1183          Middle Atlantic  \n",
       "1184       East North Central  \n",
       "1185                  Pacific  \n",
       "\n",
       "[1186 rows x 38 columns]"
      ]
     },
     "execution_count": 7,
     "metadata": {},
     "output_type": "execute_result"
    }
   ],
   "source": [
    "#rename columns pertaining to whether the particular movie was seen\n",
    "seen_mapper={}\n",
    "seen_any_6_movs_cols=[\"seen_{}\".format(i) for i in range(1,7)]\n",
    "\n",
    "for old_col_name,new_col_name in zip(star_wars.columns[3:9],seen_any_6_movs_cols):\n",
    "    seen_mapper[old_col_name]=new_col_name\n",
    "\n",
    "star_wars=star_wars.rename(columns=seen_mapper)\n",
    "print(star_wars.columns)\n",
    "\n",
    "#replace values in each movie seen column with True/False\n",
    "star_wars_movies=[]\n",
    "seen_movies_value_mapper={}\n",
    "for movie_seen_col in seen_any_6_movs_cols:\n",
    "    col_vals={}\n",
    "    seen_entries=star_wars[movie_seen_col].unique()\n",
    "    star_wars_movies.append(seen_entries[0])\n",
    "    col_vals[seen_entries[0]]=True\n",
    "    col_vals[np.nan]=False\n",
    "    seen_movies_value_mapper[movie_seen_col]=col_vals\n",
    "print(seen_movies_value_mapper)\n",
    "\n",
    "star_wars=star_wars.replace(seen_movies_value_mapper)\n",
    "star_wars"
   ]
  },
  {
   "cell_type": "code",
   "execution_count": 8,
   "metadata": {},
   "outputs": [
    {
     "name": "stdout",
     "output_type": "stream",
     "text": [
      "Index(['RespondentID',\n",
      "       'Have you seen any of the 6 films in the Star Wars franchise?',\n",
      "       'Do you consider yourself to be a fan of the Star Wars film franchise?',\n",
      "       'seen_1', 'seen_2', 'seen_3', 'seen_4', 'seen_5', 'seen_6', 'ranking_1',\n",
      "       'ranking_2', 'ranking_3', 'ranking_4', 'ranking_5', 'ranking_6',\n",
      "       'Please state whether you view the following characters favorably, unfavorably, or are unfamiliar with him/her.',\n",
      "       'Unnamed: 16', 'Unnamed: 17', 'Unnamed: 18', 'Unnamed: 19',\n",
      "       'Unnamed: 20', 'Unnamed: 21', 'Unnamed: 22', 'Unnamed: 23',\n",
      "       'Unnamed: 24', 'Unnamed: 25', 'Unnamed: 26', 'Unnamed: 27',\n",
      "       'Unnamed: 28', 'Which character shot first?',\n",
      "       'Are you familiar with the Expanded Universe?',\n",
      "       'Do you consider yourself to be a fan of the Expanded Universe?',\n",
      "       'Do you consider yourself to be a fan of the Star Trek franchise?',\n",
      "       'Gender', 'Age', 'Household Income', 'Education',\n",
      "       'Location (Census Region)'],\n",
      "      dtype='object')\n"
     ]
    },
    {
     "data": {
      "text/plain": [
       "RespondentID                                                                                                        int64\n",
       "Have you seen any of the 6 films in the Star Wars franchise?                                                         bool\n",
       "Do you consider yourself to be a fan of the Star Wars film franchise?                                              object\n",
       "seen_1                                                                                                               bool\n",
       "seen_2                                                                                                               bool\n",
       "seen_3                                                                                                               bool\n",
       "seen_4                                                                                                               bool\n",
       "seen_5                                                                                                               bool\n",
       "seen_6                                                                                                               bool\n",
       "ranking_1                                                                                                         float64\n",
       "ranking_2                                                                                                         float64\n",
       "ranking_3                                                                                                         float64\n",
       "ranking_4                                                                                                         float64\n",
       "ranking_5                                                                                                         float64\n",
       "ranking_6                                                                                                         float64\n",
       "Please state whether you view the following characters favorably, unfavorably, or are unfamiliar with him/her.     object\n",
       "Unnamed: 16                                                                                                        object\n",
       "Unnamed: 17                                                                                                        object\n",
       "Unnamed: 18                                                                                                        object\n",
       "Unnamed: 19                                                                                                        object\n",
       "Unnamed: 20                                                                                                        object\n",
       "Unnamed: 21                                                                                                        object\n",
       "Unnamed: 22                                                                                                        object\n",
       "Unnamed: 23                                                                                                        object\n",
       "Unnamed: 24                                                                                                        object\n",
       "Unnamed: 25                                                                                                        object\n",
       "Unnamed: 26                                                                                                        object\n",
       "Unnamed: 27                                                                                                        object\n",
       "Unnamed: 28                                                                                                        object\n",
       "Which character shot first?                                                                                        object\n",
       "Are you familiar with the Expanded Universe?                                                                       object\n",
       "Do you consider yourself to be a fan of the Expanded Universe?                                                     object\n",
       "Do you consider yourself to be a fan of the Star Trek franchise?                                                   object\n",
       "Gender                                                                                                             object\n",
       "Age                                                                                                                object\n",
       "Household Income                                                                                                   object\n",
       "Education                                                                                                          object\n",
       "Location (Census Region)                                                                                           object\n",
       "dtype: object"
      ]
     },
     "execution_count": 8,
     "metadata": {},
     "output_type": "execute_result"
    }
   ],
   "source": [
    "# rename columns pertaining to ranking of the 6 star wars movies \n",
    "ranking_mapper={}\n",
    "ranking_6_movies_cols=[\"ranking_{}\".format(i) for i in range(1,7)]\n",
    "for old_col_name,new_col_name in zip(star_wars.columns[9:15],ranking_6_movies_cols):\n",
    "    ranking_mapper[old_col_name]=new_col_name\n",
    "    \n",
    "star_wars=star_wars.rename(columns=ranking_mapper)\n",
    "print(star_wars.columns)\n",
    "\n",
    "# converting column values to numeric types\n",
    "star_wars[star_wars.columns[9:15]] = star_wars[star_wars.columns[9:15]].astype(float)\n",
    "star_wars.dtypes"
   ]
  },
  {
   "cell_type": "markdown",
   "metadata": {},
   "source": [
    "Now that we've cleaned up the ranking columns, we can find the highest-ranked movie quicker"
   ]
  },
  {
   "cell_type": "code",
   "execution_count": 9,
   "metadata": {},
   "outputs": [],
   "source": [
    "%matplotlib inline\n",
    "import matplotlib.pyplot as plt"
   ]
  },
  {
   "cell_type": "code",
   "execution_count": 10,
   "metadata": {},
   "outputs": [],
   "source": [
    "#star_wars_movies_formatted="
   ]
  },
  {
   "cell_type": "markdown",
   "metadata": {},
   "source": [
    "# Finding the Highest-Ranked Movie"
   ]
  },
  {
   "cell_type": "code",
   "execution_count": 11,
   "metadata": {},
   "outputs": [
    {
     "name": "stdout",
     "output_type": "stream",
     "text": [
      "Star Wars: Episode III  Revenge of the Sith     4.341317\n",
      "Star Wars: Episode II  Attack of the Clones     4.087321\n",
      "Star Wars: Episode I  The Phantom Menace        3.732934\n",
      "Star Wars: Episode IV  A New Hope               3.272727\n",
      "Star Wars: Episode VI Return of the Jedi        3.047847\n",
      "Star Wars: Episode V The Empire Strikes Back    2.513158\n",
      "dtype: float64\n"
     ]
    },
    {
     "data": {
      "image/png": "[encoded data removed]",
      "text/plain": [
       "<Figure size 432x288 with 1 Axes>"
      ]
     },
     "metadata": {
      "needs_background": "light"
     },
     "output_type": "display_data"
    }
   ],
   "source": [
    "average_movie_ranking=star_wars[ranking_6_movies_cols].mean()\n",
    "average_movie_ranking.index=star_wars_movies\n",
    "movies_ranking_listings=average_movie_ranking.sort_values(ascending=False)\n",
    "print(movies_ranking_listings)\n",
    "ax_ranking=average_movie_ranking.plot.bar()\n",
    "#ax_ranking.set_xticklabels(star_wars_movies)\n",
    "ax_ranking.set_xlabel(\"Star Wars Movies\")\n",
    "ax_ranking.set_ylabel(\"Average Movie Ranking by Respondents : 1-6 \\n(1 being most and 6 being least favorite)\")\n",
    "plt.show()"
   ]
  },
  {
   "cell_type": "markdown",
   "metadata": {},
   "source": [
    "It looks like the \"original\" movies are rated much more highly than the newer ones.\n",
    "\n",
    "NOTE: \"Original\" refers to movies I-III, \"New\" refers to movies IV-VI"
   ]
  },
  {
   "cell_type": "markdown",
   "metadata": {},
   "source": [
    "# Finding the Most Viewed Movie"
   ]
  },
  {
   "cell_type": "code",
   "execution_count": 12,
   "metadata": {
    "scrolled": true
   },
   "outputs": [
    {
     "name": "stdout",
     "output_type": "stream",
     "text": [
      "Star Wars: Episode V The Empire Strikes Back    758\n",
      "Star Wars: Episode VI Return of the Jedi        738\n",
      "Star Wars: Episode I  The Phantom Menace        673\n",
      "Star Wars: Episode IV  A New Hope               607\n",
      "Star Wars: Episode II  Attack of the Clones     571\n",
      "Star Wars: Episode III  Revenge of the Sith     550\n",
      "dtype: int64\n"
     ]
    },
    {
     "data": {
      "image/png": "[encoded data removed]",
      "text/plain": [
       "<Figure size 432x288 with 1 Axes>"
      ]
     },
     "metadata": {
      "needs_background": "light"
     },
     "output_type": "display_data"
    }
   ],
   "source": [
    "total_movie_views=star_wars[seen_any_6_movs_cols].sum()\n",
    "total_movie_views.index=star_wars_movies\n",
    "movies_views_listings=total_movie_views.sort_values(ascending=False)\n",
    "print(movies_views_listings)\n",
    "ax_views=total_movie_views.plot.bar()\n",
    "#ax_views.set_xticklabels(star_wars_movies)\n",
    "ax_views.set_xlabel(\"Star Wars Movies\")\n",
    "ax_views.set_ylabel(\"Total Movie Views by Respondents\")\n",
    "plt.show()"
   ]
  },
  {
   "cell_type": "markdown",
   "metadata": {},
   "source": [
    "It looks like the \"newer\" movies are viewed much more than the \"older\" ones."
   ]
  },
  {
   "cell_type": "code",
   "execution_count": 13,
   "metadata": {},
   "outputs": [
    {
     "name": "stdout",
     "output_type": "stream",
     "text": [
      "-0.8781264941384702\n"
     ]
    },
    {
     "data": {
      "image/png": "[encoded data removed]",
      "text/plain": [
       "<Figure size 432x288 with 1 Axes>"
      ]
     },
     "metadata": {
      "needs_background": "light"
     },
     "output_type": "display_data"
    },
    {
     "data": {
      "image/png": "[encoded data removed]",
      "text/plain": [
       "<Figure size 432x288 with 1 Axes>"
      ]
     },
     "metadata": {
      "needs_background": "light"
     },
     "output_type": "display_data"
    }
   ],
   "source": [
    "#finding the correlation between total movie views and average movie ranking\n",
    "\n",
    "views_ranking_r_coeff=total_movie_views.corr(average_movie_ranking)\n",
    "print(views_ranking_r_coeff)\n",
    "\n",
    "#since rankings depend on seeing the movie, take variable on x-axis as views\n",
    "plt.scatter(total_movie_views,average_movie_ranking)\n",
    "plt.show()\n",
    "\n",
    "#subdividing the scatter plot according to \"old\" and \"new\"\n",
    "plt.scatter(total_movie_views[:3],average_movie_ranking[:3],label='Older Movies')\n",
    "plt.scatter(total_movie_views[3:],average_movie_ranking[3:],label='Newer Movies')\n",
    "plt.legend()\n",
    "plt.show()"
   ]
  },
  {
   "cell_type": "markdown",
   "metadata": {},
   "source": [
    "- Overall, there is mostly a strong, negative correlation between the average rating a movie gets, and the number of views garnered by it.\n",
    "    * An exception is observed between 1st and 4th _Star Wars_ movies. Though the 4th movie has a lower average ranking than 1st one, it has lesser number of views when compared to the first movie(if it followed the general trend, it would have more views than the 1st movie.\n",
    "    * This surprising negative correlation could be explained by the fact that as the number of views of a movie increases, the avg. rating normalizes and becomes representative of all types of opinions, which might not be the case in movies watched by less people as it might be easily swayed by even a small number of favorable reviews \n",
    "\n",
    "- However, within \"Older\" and \"Newer\" movies, there are no exceptions. Strong negative correlation is observed in both types.\n",
    "\n",
    "- In particular, among the \"older movies\":\n",
    "    * positive correlation exists between average rating and movie number -- later movies got better ratings by respondents. \n",
    "    * However, a negative correlation exists between movie number and views -- later movies got lesser views by respondents. This could be explained by lesser enthusiasm among the general public."
   ]
  },
  {
   "cell_type": "markdown",
   "metadata": {},
   "source": [
    "# Exploring the Data by Binary Segments"
   ]
  },
  {
   "cell_type": "markdown",
   "metadata": {},
   "source": [
    "### _By Gender_"
   ]
  },
  {
   "cell_type": "code",
   "execution_count": 14,
   "metadata": {},
   "outputs": [
    {
     "name": "stdout",
     "output_type": "stream",
     "text": [
      "['Male' nan 'Female']\n"
     ]
    }
   ],
   "source": [
    "print(star_wars[\"Gender\"].unique())\n",
    "\n",
    "males = star_wars[star_wars[\"Gender\"] == 'Male']\n",
    "females = star_wars[star_wars[\"Gender\"] == 'Female']"
   ]
  },
  {
   "cell_type": "markdown",
   "metadata": {},
   "source": [
    "##### Comparing Movie Ratings "
   ]
  },
  {
   "cell_type": "code",
   "execution_count": 15,
   "metadata": {},
   "outputs": [
    {
     "name": "stdout",
     "output_type": "stream",
     "text": [
      "Average Movie rating according to male respondents\n",
      "Star Wars: Episode III  Revenge of the Sith     4.274882\n",
      "Star Wars: Episode II  Attack of the Clones     4.224586\n",
      "Star Wars: Episode I  The Phantom Menace        4.037825\n",
      "Star Wars: Episode VI Return of the Jedi        3.002364\n",
      "Star Wars: Episode IV  A New Hope               2.997636\n",
      "Star Wars: Episode V The Empire Strikes Back    2.458629\n",
      "dtype: float64\n",
      "Average Movie rating according to female respondents\n",
      "Star Wars: Episode III  Revenge of the Sith     4.418136\n",
      "Star Wars: Episode II  Attack of the Clones     3.954660\n",
      "Star Wars: Episode IV  A New Hope               3.544081\n",
      "Star Wars: Episode I  The Phantom Menace        3.429293\n",
      "Star Wars: Episode VI Return of the Jedi        3.078086\n",
      "Star Wars: Episode V The Empire Strikes Back    2.569270\n",
      "dtype: float64\n"
     ]
    },
    {
     "data": {
      "image/png": "[encoded data removed]",
      "text/plain": [
       "<Figure size 432x288 with 1 Axes>"
      ]
     },
     "metadata": {
      "needs_background": "light"
     },
     "output_type": "display_data"
    },
    {
     "data": {
      "image/png": "[encoded data removed]",
      "text/plain": [
       "<Figure size 432x288 with 1 Axes>"
      ]
     },
     "metadata": {
      "needs_background": "light"
     },
     "output_type": "display_data"
    }
   ],
   "source": [
    "'''\n",
    "mamr -- male_average_movie_ranking\n",
    "mmrl -- male_movies_ranking_listings\n",
    "famr -- female_average_movie_ranking\n",
    "fmrl -- female_movies_ranking_listings\n",
    "'''\n",
    "\n",
    "mamr=males[ranking_6_movies_cols].mean()\n",
    "mamr.index=star_wars_movies\n",
    "mmrl=mamr.sort_values(ascending=False)\n",
    "print(\"Average Movie rating according to male respondents\")\n",
    "print(mmrl)\n",
    "famr=females[ranking_6_movies_cols].mean()\n",
    "famr.index=star_wars_movies\n",
    "fmrl=famr.sort_values(ascending=False)\n",
    "print(\"Average Movie rating according to female respondents\")\n",
    "print(fmrl)\n",
    "\n",
    "plt.bar(range(6),mamr)\n",
    "plt.show()\n",
    "plt.bar(range(6),famr)\n",
    "plt.show()"
   ]
  },
  {
   "cell_type": "markdown",
   "metadata": {},
   "source": [
    "##### Comparing Movie Views"
   ]
  },
  {
   "cell_type": "code",
   "execution_count": 16,
   "metadata": {},
   "outputs": [
    {
     "name": "stdout",
     "output_type": "stream",
     "text": [
      "Total Movie views according to male respondents\n",
      "Star Wars: Episode V The Empire Strikes Back    392\n",
      "Star Wars: Episode VI Return of the Jedi        387\n",
      "Star Wars: Episode I  The Phantom Menace        361\n",
      "Star Wars: Episode IV  A New Hope               342\n",
      "Star Wars: Episode II  Attack of the Clones     323\n",
      "Star Wars: Episode III  Revenge of the Sith     317\n",
      "dtype: int64\n",
      "Total Movie views according to female respondents\n",
      "Star Wars: Episode V The Empire Strikes Back    353\n",
      "Star Wars: Episode VI Return of the Jedi        338\n",
      "Star Wars: Episode I  The Phantom Menace        298\n",
      "Star Wars: Episode IV  A New Hope               255\n",
      "Star Wars: Episode II  Attack of the Clones     237\n",
      "Star Wars: Episode III  Revenge of the Sith     222\n",
      "dtype: int64\n"
     ]
    },
    {
     "data": {
      "image/png": "[encoded data removed]",
      "text/plain": [
       "<Figure size 432x288 with 1 Axes>"
      ]
     },
     "metadata": {
      "needs_background": "light"
     },
     "output_type": "display_data"
    },
    {
     "data": {
      "image/png": "[encoded data removed]",
      "text/plain": [
       "<Figure size 432x288 with 1 Axes>"
      ]
     },
     "metadata": {
      "needs_background": "light"
     },
     "output_type": "display_data"
    }
   ],
   "source": [
    "'''\n",
    "tmmv -- total_male_movie_views\n",
    "mmvl -- movies_male_views_listings\n",
    "tfmv -- total_female_movie_views\n",
    "mfvl -- movies_female_views_listings\n",
    "'''\n",
    "\n",
    "tmmv=males[seen_any_6_movs_cols].sum()\n",
    "tmmv.index=star_wars_movies\n",
    "mmvl=tmmv.sort_values(ascending=False)\n",
    "print(\"Total Movie views according to male respondents\")\n",
    "print(mmvl)\n",
    "tfmv=females[seen_any_6_movs_cols].sum()\n",
    "tfmv.index=star_wars_movies\n",
    "mfvl=tfmv.sort_values(ascending=False)\n",
    "print(\"Total Movie views according to female respondents\")\n",
    "print(mfvl)\n",
    "\n",
    "plt.bar(range(6),tmmv)\n",
    "plt.show()\n",
    "plt.bar(range(6),tfmv)\n",
    "plt.show()"
   ]
  },
  {
   "cell_type": "markdown",
   "metadata": {},
   "source": [
    "##### Male/Female differences in favorite Star Wars movie and most seen movie"
   ]
  },
  {
   "cell_type": "markdown",
   "metadata": {},
   "source": [
    "Interestingly, more males watches episodes 1-3, but males liked them far less than females did."
   ]
  },
  {
   "cell_type": "markdown",
   "metadata": {},
   "source": [
    "### _By the question `Do you consider yourself to be a fan of the Star Wars film franchise?`_"
   ]
  },
  {
   "cell_type": "code",
   "execution_count": 17,
   "metadata": {},
   "outputs": [
    {
     "name": "stdout",
     "output_type": "stream",
     "text": [
      "[True nan False]\n"
     ]
    }
   ],
   "source": [
    "print(star_wars['Do you consider yourself to be a fan of the Star Wars film franchise?'].unique())\n",
    "\n",
    "SW_franchise_fan=star_wars[star_wars['Do you consider yourself to be a fan of the Star Wars film franchise?']==True]\n",
    "SW_franchise_non_fan=star_wars[star_wars['Do you consider yourself to be a fan of the Star Wars film franchise?']==False]"
   ]
  },
  {
   "cell_type": "markdown",
   "metadata": {},
   "source": [
    "##### Comparing Movie Ratings "
   ]
  },
  {
   "cell_type": "code",
   "execution_count": 18,
   "metadata": {},
   "outputs": [
    {
     "name": "stdout",
     "output_type": "stream",
     "text": [
      "Average Movie rating according to respondents who are fans of the Star Wars film franchise\n",
      "Star Wars: Episode III  Revenge of the Sith     4.417423\n",
      "Star Wars: Episode II  Attack of the Clones     4.342391\n",
      "Star Wars: Episode I  The Phantom Menace        4.141304\n",
      "Star Wars: Episode IV  A New Hope               2.932971\n",
      "Star Wars: Episode VI Return of the Jedi        2.829710\n",
      "Star Wars: Episode V The Empire Strikes Back    2.333333\n",
      "dtype: float64\n",
      "Average Movie rating according to respondents who are not fans of the Star Wars film franchise\n",
      "Star Wars: Episode III  Revenge of the Sith     4.193662\n",
      "Star Wars: Episode IV  A New Hope               3.933099\n",
      "Star Wars: Episode II  Attack of the Clones     3.591549\n",
      "Star Wars: Episode VI Return of the Jedi        3.471831\n",
      "Star Wars: Episode I  The Phantom Menace        2.936396\n",
      "Star Wars: Episode V The Empire Strikes Back    2.862676\n",
      "dtype: float64\n"
     ]
    },
    {
     "data": {
      "image/png": "[encoded data removed]",
      "text/plain": [
       "<Figure size 432x288 with 1 Axes>"
      ]
     },
     "metadata": {
      "needs_background": "light"
     },
     "output_type": "display_data"
    },
    {
     "data": {
      "image/png": "[encoded data removed]",
      "text/plain": [
       "<Figure size 432x288 with 1 Axes>"
      ]
     },
     "metadata": {
      "needs_background": "light"
     },
     "output_type": "display_data"
    }
   ],
   "source": [
    "'''\n",
    "swfamr -- star_wars_fan_average_movie_ranking\n",
    "swfmrl -- star_wars_fan_movies_ranking_listings\n",
    "swnfamr -- star_wars_non_fan_average_movie_ranking\n",
    "swnfmrl -- star_wars_non_fan_movies_ranking_listings\n",
    "'''\n",
    "\n",
    "swfamr=SW_franchise_fan[ranking_6_movies_cols].mean()\n",
    "swfamr.index=star_wars_movies\n",
    "swfmrl=swfamr.sort_values(ascending=False)\n",
    "print(\"Average Movie rating according to respondents who are fans of the Star Wars film franchise\")\n",
    "print(swfmrl)\n",
    "swnfamr=SW_franchise_non_fan[ranking_6_movies_cols].mean()\n",
    "swnfamr.index=star_wars_movies\n",
    "swnfmrl=swnfamr.sort_values(ascending=False)\n",
    "print(\"Average Movie rating according to respondents who are not fans of the Star Wars film franchise\")\n",
    "print(swnfmrl)\n",
    "\n",
    "plt.bar(range(6),swfamr)\n",
    "plt.show()\n",
    "plt.bar(range(6),swnfamr)\n",
    "plt.show()"
   ]
  },
  {
   "cell_type": "markdown",
   "metadata": {},
   "source": [
    "##### Comparing Movie Views"
   ]
  },
  {
   "cell_type": "code",
   "execution_count": 19,
   "metadata": {},
   "outputs": [
    {
     "name": "stdout",
     "output_type": "stream",
     "text": [
      "Total Movie views according to respondents who are fans of the Star Wars film franchise\n",
      "Star Wars: Episode V The Empire Strikes Back    538\n",
      "Star Wars: Episode VI Return of the Jedi        537\n",
      "Star Wars: Episode I  The Phantom Menace        500\n",
      "Star Wars: Episode IV  A New Hope               483\n",
      "Star Wars: Episode II  Attack of the Clones     463\n",
      "Star Wars: Episode III  Revenge of the Sith     450\n",
      "dtype: int64\n",
      "Total Movie views according to female respondents who are not fans of the Star Wars film franchise\n",
      "Star Wars: Episode V The Empire Strikes Back    220\n",
      "Star Wars: Episode VI Return of the Jedi        201\n",
      "Star Wars: Episode I  The Phantom Menace        173\n",
      "Star Wars: Episode IV  A New Hope               124\n",
      "Star Wars: Episode II  Attack of the Clones     108\n",
      "Star Wars: Episode III  Revenge of the Sith     100\n",
      "dtype: int64\n"
     ]
    },
    {
     "data": {
      "image/png": "[encoded data removed]",
      "text/plain": [
       "<Figure size 432x288 with 1 Axes>"
      ]
     },
     "metadata": {
      "needs_background": "light"
     },
     "output_type": "display_data"
    },
    {
     "data": {
      "image/png": "[encoded data removed]",
      "text/plain": [
       "<Figure size 432x288 with 1 Axes>"
      ]
     },
     "metadata": {
      "needs_background": "light"
     },
     "output_type": "display_data"
    }
   ],
   "source": [
    "'''\n",
    "tswfmv -- total_star_wars_fan_movie_views\n",
    "mswfvl -- movies_star_wars_fan_views_listings\n",
    "tswnfmv -- total_star_wars_non_fan_movie_views\n",
    "mswnfvl -- movies_star_wars_non_fan_views_listings\n",
    "'''\n",
    "\n",
    "tswfmv=SW_franchise_fan[seen_any_6_movs_cols].sum()\n",
    "tswfmv.index=star_wars_movies\n",
    "mswfvl=tswfmv.sort_values(ascending=False)\n",
    "print(\"Total Movie views according to respondents who are fans of the Star Wars film franchise\")\n",
    "print(mswfvl)\n",
    "tswnfmv=SW_franchise_non_fan[seen_any_6_movs_cols].sum()\n",
    "tswnfmv.index=star_wars_movies\n",
    "mswnfvl=tswnfmv.sort_values(ascending=False)\n",
    "print(\"Total Movie views according to female respondents who are not fans of the Star Wars film franchise\")\n",
    "print(mswnfvl)\n",
    "\n",
    "plt.bar(range(6),tswfmv)\n",
    "plt.show()\n",
    "plt.bar(range(6),tswnfmv)\n",
    "plt.show()"
   ]
  },
  {
   "cell_type": "markdown",
   "metadata": {},
   "source": [
    "### _By the question `Do you consider yourself to be a fan of the Star Trek franchise?`_"
   ]
  },
  {
   "cell_type": "code",
   "execution_count": 20,
   "metadata": {},
   "outputs": [
    {
     "name": "stdout",
     "output_type": "stream",
     "text": [
      "['No' 'Yes' nan]\n"
     ]
    }
   ],
   "source": [
    "print(star_wars['Do you consider yourself to be a fan of the Star Trek franchise?'].unique())\n",
    "\n",
    "ST_franchise_fan=star_wars[star_wars['Do you consider yourself to be a fan of the Star Trek franchise?']=='Yes']\n",
    "ST_franchise_non_fan=star_wars[star_wars['Do you consider yourself to be a fan of the Star Trek franchise?']=='No']"
   ]
  },
  {
   "cell_type": "markdown",
   "metadata": {},
   "source": [
    "##### Comparing Movie Ratings "
   ]
  },
  {
   "cell_type": "code",
   "execution_count": 21,
   "metadata": {},
   "outputs": [
    {
     "name": "stdout",
     "output_type": "stream",
     "text": [
      "Average Movie rating according to respondents who are fans of the Star Trek film franchise\n",
      "Star Wars: Episode III  Revenge of the Sith     4.403382\n",
      "Star Wars: Episode II  Attack of the Clones     4.255422\n",
      "Star Wars: Episode I  The Phantom Menace        3.968675\n",
      "Star Wars: Episode IV  A New Hope               3.110843\n",
      "Star Wars: Episode VI Return of the Jedi        2.850602\n",
      "Star Wars: Episode V The Empire Strikes Back    2.407229\n",
      "dtype: float64\n",
      "Average Movie rating according to respondents who are not fans of the Star Trek film franchise\n",
      "Star Wars: Episode III  Revenge of the Sith     4.278450\n",
      "Star Wars: Episode II  Attack of the Clones     3.915254\n",
      "Star Wars: Episode I  The Phantom Menace        3.487864\n",
      "Star Wars: Episode IV  A New Hope               3.433414\n",
      "Star Wars: Episode VI Return of the Jedi        3.244552\n",
      "Star Wars: Episode V The Empire Strikes Back    2.634383\n",
      "dtype: float64\n"
     ]
    },
    {
     "data": {
      "image/png": "[encoded data removed]",
      "text/plain": [
       "<Figure size 432x288 with 1 Axes>"
      ]
     },
     "metadata": {
      "needs_background": "light"
     },
     "output_type": "display_data"
    },
    {
     "data": {
      "image/png": "[encoded data removed]",
      "text/plain": [
       "<Figure size 432x288 with 1 Axes>"
      ]
     },
     "metadata": {
      "needs_background": "light"
     },
     "output_type": "display_data"
    }
   ],
   "source": [
    "'''\n",
    "stfamr -- star_trek_fan_average_movie_ranking\n",
    "stfmrl -- star_trek_fan_movies_ranking_listings\n",
    "stnfamr -- star_trek_non_fan_average_movie_ranking\n",
    "stnfmrl -- star_trek_non_fan_movies_ranking_listings\n",
    "'''\n",
    "\n",
    "stfamr=ST_franchise_fan[ranking_6_movies_cols].mean()\n",
    "stfamr.index=star_wars_movies\n",
    "stfmrl=stfamr.sort_values(ascending=False)\n",
    "print(\"Average Movie rating according to respondents who are fans of the Star Trek film franchise\")\n",
    "print(stfmrl)\n",
    "stnfamr=ST_franchise_non_fan[ranking_6_movies_cols].mean()\n",
    "stnfamr.index=star_wars_movies\n",
    "stnfmrl=stnfamr.sort_values(ascending=False)\n",
    "print(\"Average Movie rating according to respondents who are not fans of the Star Trek film franchise\")\n",
    "print(stnfmrl)\n",
    "\n",
    "plt.bar(range(6),stfamr)\n",
    "plt.show()\n",
    "plt.bar(range(6),stnfamr)\n",
    "plt.show()"
   ]
  },
  {
   "cell_type": "markdown",
   "metadata": {},
   "source": [
    "##### Comparing Movie Views"
   ]
  },
  {
   "cell_type": "code",
   "execution_count": 22,
   "metadata": {},
   "outputs": [
    {
     "name": "stdout",
     "output_type": "stream",
     "text": [
      "Total Movie views according to respondents who are fans of the Star Trek film franchise\n",
      "Star Wars: Episode V The Empire Strikes Back    397\n",
      "Star Wars: Episode VI Return of the Jedi        396\n",
      "Star Wars: Episode I  The Phantom Menace        364\n",
      "Star Wars: Episode IV  A New Hope               342\n",
      "Star Wars: Episode II  Attack of the Clones     336\n",
      "Star Wars: Episode III  Revenge of the Sith     322\n",
      "dtype: int64\n",
      "Total Movie views according to respondents who are not fans of the Star Trek film franchise\n",
      "Star Wars: Episode V The Empire Strikes Back    353\n",
      "Star Wars: Episode VI Return of the Jedi        334\n",
      "Star Wars: Episode I  The Phantom Menace        301\n",
      "Star Wars: Episode IV  A New Hope               258\n",
      "Star Wars: Episode II  Attack of the Clones     228\n",
      "Star Wars: Episode III  Revenge of the Sith     221\n",
      "dtype: int64\n"
     ]
    },
    {
     "data": {
      "image/png": "[encoded data removed]",
      "text/plain": [
       "<Figure size 432x288 with 1 Axes>"
      ]
     },
     "metadata": {
      "needs_background": "light"
     },
     "output_type": "display_data"
    },
    {
     "data": {
      "image/png": "[encoded data removed]",
      "text/plain": [
       "<Figure size 432x288 with 1 Axes>"
      ]
     },
     "metadata": {
      "needs_background": "light"
     },
     "output_type": "display_data"
    }
   ],
   "source": [
    "'''\n",
    "tstfmv -- total_star_trek_fan_movie_views\n",
    "mstfvl -- movies_star_trek_fan_views_listings\n",
    "tstnfmv -- total_star_trek_non_fan_movie_views\n",
    "mstnfvl -- movies_star_trek_non_fan_views_listings\n",
    "'''\n",
    "\n",
    "tstfmv=ST_franchise_fan[seen_any_6_movs_cols].sum()\n",
    "tstfmv.index=star_wars_movies\n",
    "mstfvl=tstfmv.sort_values(ascending=False)\n",
    "print(\"Total Movie views according to respondents who are fans of the Star Trek film franchise\")\n",
    "print(mstfvl)\n",
    "tstnfmv=ST_franchise_non_fan[seen_any_6_movs_cols].sum()\n",
    "tstnfmv.index=star_wars_movies\n",
    "mstnfvl=tstnfmv.sort_values(ascending=False)\n",
    "print(\"Total Movie views according to respondents who are not fans of the Star Trek film franchise\")\n",
    "print(mstnfvl)\n",
    "\n",
    "plt.bar(range(6),tstfmv)\n",
    "plt.show()\n",
    "plt.bar(range(6),tstnfmv)\n",
    "plt.show()"
   ]
  },
  {
   "cell_type": "markdown",
   "metadata": {},
   "source": [
    "### _By respondent's education_"
   ]
  },
  {
   "cell_type": "code",
   "execution_count": 23,
   "metadata": {},
   "outputs": [
    {
     "name": "stdout",
     "output_type": "stream",
     "text": [
      "['High school degree' 'Bachelor degree' 'Some college or Associate degree'\n",
      " nan 'Graduate degree' 'Less than high school degree']\n"
     ]
    }
   ],
   "source": [
    "respondent_education_levels = star_wars['Education'].unique()\n",
    "print(respondent_education_levels)\n",
    "\n",
    "survey_grouped_by_education_level = star_wars.groupby('Education')\n",
    "\n",
    "education_level_segmented_data=[survey_grouped_by_education_level.get_group(education_level) for education_level in respondent_education_levels if education_level == education_level]"
   ]
  },
  {
   "cell_type": "markdown",
   "metadata": {},
   "source": [
    "##### Comparing Movie Ratings "
   ]
  },
  {
   "cell_type": "code",
   "execution_count": 24,
   "metadata": {},
   "outputs": [
    {
     "data": {
      "image/png": "[encoded data removed]",
      "text/plain": [
       "<Figure size 432x288 with 1 Axes>"
      ]
     },
     "metadata": {
      "needs_background": "light"
     },
     "output_type": "display_data"
    },
    {
     "data": {
      "image/png": "[encoded data removed]",
      "text/plain": [
       "<Figure size 432x288 with 1 Axes>"
      ]
     },
     "metadata": {
      "needs_background": "light"
     },
     "output_type": "display_data"
    },
    {
     "data": {
      "image/png": "[encoded data removed]",
      "text/plain": [
       "<Figure size 432x288 with 1 Axes>"
      ]
     },
     "metadata": {
      "needs_background": "light"
     },
     "output_type": "display_data"
    },
    {
     "data": {
      "image/png": "[encoded data removed]",
      "text/plain": [
       "<Figure size 432x288 with 1 Axes>"
      ]
     },
     "metadata": {
      "needs_background": "light"
     },
     "output_type": "display_data"
    },
    {
     "data": {
      "image/png": "[encoded data removed]",
      "text/plain": [
       "<Figure size 432x288 with 1 Axes>"
      ]
     },
     "metadata": {
      "needs_background": "light"
     },
     "output_type": "display_data"
    }
   ],
   "source": [
    "for education_data in education_level_segmented_data:\n",
    "    plt.bar(range(6),education_data[ranking_6_movies_cols].mean())\n",
    "    plt.show()"
   ]
  },
  {
   "cell_type": "markdown",
   "metadata": {},
   "source": [
    "##### Comparing Movie Views"
   ]
  },
  {
   "cell_type": "code",
   "execution_count": 25,
   "metadata": {},
   "outputs": [
    {
     "data": {
      "image/png": "[encoded data removed]",
      "text/plain": [
       "<Figure size 432x288 with 1 Axes>"
      ]
     },
     "metadata": {
      "needs_background": "light"
     },
     "output_type": "display_data"
    },
    {
     "data": {
      "image/png": "[encoded data removed]",
      "text/plain": [
       "<Figure size 432x288 with 1 Axes>"
      ]
     },
     "metadata": {
      "needs_background": "light"
     },
     "output_type": "display_data"
    },
    {
     "data": {
      "image/png": "[encoded data removed]",
      "text/plain": [
       "<Figure size 432x288 with 1 Axes>"
      ]
     },
     "metadata": {
      "needs_background": "light"
     },
     "output_type": "display_data"
    },
    {
     "data": {
      "image/png": "[encoded data removed]",
      "text/plain": [
       "<Figure size 432x288 with 1 Axes>"
      ]
     },
     "metadata": {
      "needs_background": "light"
     },
     "output_type": "display_data"
    },
    {
     "data": {
      "image/png": "[encoded data removed]",
      "text/plain": [
       "<Figure size 432x288 with 1 Axes>"
      ]
     },
     "metadata": {
      "needs_background": "light"
     },
     "output_type": "display_data"
    }
   ],
   "source": [
    "for education_data in education_level_segmented_data:\n",
    "    plt.bar(range(6),education_data[seen_any_6_movs_cols].sum())\n",
    "    plt.show()"
   ]
  },
  {
   "cell_type": "markdown",
   "metadata": {},
   "source": [
    "### _By respondent's Location (Census Region)_"
   ]
  },
  {
   "cell_type": "code",
   "execution_count": 26,
   "metadata": {},
   "outputs": [
    {
     "name": "stdout",
     "output_type": "stream",
     "text": [
      "['South Atlantic' 'West South Central' 'West North Central'\n",
      " 'Middle Atlantic' 'East North Central' 'Pacific' nan 'Mountain'\n",
      " 'New England' 'East South Central']\n"
     ]
    }
   ],
   "source": [
    "respondent_locations = star_wars['Location (Census Region)'].unique()\n",
    "print(respondent_locations)\n",
    "\n",
    "survey_grouped_by_location = star_wars.groupby('Location (Census Region)')\n",
    "\n",
    "location_segmented_data=[survey_grouped_by_location.get_group(location) for location in respondent_locations if location == location]"
   ]
  },
  {
   "cell_type": "markdown",
   "metadata": {},
   "source": [
    "##### Comparing Movie Ratings "
   ]
  },
  {
   "cell_type": "code",
   "execution_count": 27,
   "metadata": {},
   "outputs": [
    {
     "data": {
      "image/png": "[encoded data removed]",
      "text/plain": [
       "<Figure size 432x288 with 1 Axes>"
      ]
     },
     "metadata": {
      "needs_background": "light"
     },
     "output_type": "display_data"
    },
    {
     "data": {
      "image/png": "[encoded data removed]",
      "text/plain": [
       "<Figure size 432x288 with 1 Axes>"
      ]
     },
     "metadata": {
      "needs_background": "light"
     },
     "output_type": "display_data"
    },
    {
     "data": {
      "image/png": "[encoded data removed]",
      "text/plain": [
       "<Figure size 432x288 with 1 Axes>"
      ]
     },
     "metadata": {
      "needs_background": "light"
     },
     "output_type": "display_data"
    },
    {
     "data": {
      "image/png": "[encoded data removed]",
      "text/plain": [
       "<Figure size 432x288 with 1 Axes>"
      ]
     },
     "metadata": {
      "needs_background": "light"
     },
     "output_type": "display_data"
    },
    {
     "data": {
      "image/png": "[encoded data removed]",
      "text/plain": [
       "<Figure size 432x288 with 1 Axes>"
      ]
     },
     "metadata": {
      "needs_background": "light"
     },
     "output_type": "display_data"
    },
    {
     "data": {
      "image/png": "[encoded data removed]",
      "text/plain": [
       "<Figure size 432x288 with 1 Axes>"
      ]
     },
     "metadata": {
      "needs_background": "light"
     },
     "output_type": "display_data"
    },
    {
     "data": {
      "image/png": "[encoded data removed]",
      "text/plain": [
       "<Figure size 432x288 with 1 Axes>"
      ]
     },
     "metadata": {
      "needs_background": "light"
     },
     "output_type": "display_data"
    },
    {
     "data": {
      "image/png": "[encoded data removed]",
      "text/plain": [
       "<Figure size 432x288 with 1 Axes>"
      ]
     },
     "metadata": {
      "needs_background": "light"
     },
     "output_type": "display_data"
    },
    {
     "data": {
      "image/png": "[encoded data removed]",
      "text/plain": [
       "<Figure size 432x288 with 1 Axes>"
      ]
     },
     "metadata": {
      "needs_background": "light"
     },
     "output_type": "display_data"
    }
   ],
   "source": [
    "for location_data in location_segmented_data:\n",
    "    plt.bar(range(6),location_data[ranking_6_movies_cols].mean())\n",
    "    plt.show()"
   ]
  },
  {
   "cell_type": "markdown",
   "metadata": {},
   "source": [
    "##### Comparing Movie Views"
   ]
  },
  {
   "cell_type": "code",
   "execution_count": 28,
   "metadata": {},
   "outputs": [
    {
     "data": {
      "image/png": "[encoded data removed]",
      "text/plain": [
       "<Figure size 432x288 with 1 Axes>"
      ]
     },
     "metadata": {
      "needs_background": "light"
     },
     "output_type": "display_data"
    },
    {
     "data": {
      "image/png": "[encoded data removed]",
      "text/plain": [
       "<Figure size 432x288 with 1 Axes>"
      ]
     },
     "metadata": {
      "needs_background": "light"
     },
     "output_type": "display_data"
    },
    {
     "data": {
      "image/png": "[encoded data removed]",
      "text/plain": [
       "<Figure size 432x288 with 1 Axes>"
      ]
     },
     "metadata": {
      "needs_background": "light"
     },
     "output_type": "display_data"
    },
    {
     "data": {
      "image/png": "[encoded data removed]",
      "text/plain": [
       "<Figure size 432x288 with 1 Axes>"
      ]
     },
     "metadata": {
      "needs_background": "light"
     },
     "output_type": "display_data"
    },
    {
     "data": {
      "image/png": "[encoded data removed]",
      "text/plain": [
       "<Figure size 432x288 with 1 Axes>"
      ]
     },
     "metadata": {
      "needs_background": "light"
     },
     "output_type": "display_data"
    },
    {
     "data": {
      "image/png": "[encoded data removed]",
      "text/plain": [
       "<Figure size 432x288 with 1 Axes>"
      ]
     },
     "metadata": {
      "needs_background": "light"
     },
     "output_type": "display_data"
    },
    {
     "data": {
      "image/png": "[encoded data removed]",
      "text/plain": [
       "<Figure size 432x288 with 1 Axes>"
      ]
     },
     "metadata": {
      "needs_background": "light"
     },
     "output_type": "display_data"
    },
    {
     "data": {
      "image/png": "[encoded data removed]",
      "text/plain": [
       "<Figure size 432x288 with 1 Axes>"
      ]
     },
     "metadata": {
      "needs_background": "light"
     },
     "output_type": "display_data"
    },
    {
     "data": {
      "image/png": "[encoded data removed]",
      "text/plain": [
       "<Figure size 432x288 with 1 Axes>"
      ]
     },
     "metadata": {
      "needs_background": "light"
     },
     "output_type": "display_data"
    }
   ],
   "source": [
    "for location_data in location_segmented_data:\n",
    "    plt.bar(range(6),location_data[seen_any_6_movs_cols].sum())\n",
    "    plt.show()"
   ]
  },
  {
   "cell_type": "markdown",
   "metadata": {},
   "source": [
    "### _By the question `Which character shot first?`_"
   ]
  },
  {
   "cell_type": "code",
   "execution_count": 29,
   "metadata": {},
   "outputs": [
    {
     "name": "stdout",
     "output_type": "stream",
     "text": [
      "[\"I don't understand this question\" nan 'Greedo' 'Han']\n"
     ]
    }
   ],
   "source": [
    "respondent_answers_for_which_character_shot_first=star_wars['Which character shot first?'].unique()\n",
    "print(respondent_answers_for_which_character_shot_first)\n",
    "\n",
    "survey_grouped_by_Which_character_shot_first_Q_answer=star_wars.groupby('Which character shot first?')\n",
    "\n",
    "Which_character_shot_first_answer_segmented_data=[survey_grouped_by_Which_character_shot_first_Q_answer.get_group(answer) for answer in respondent_answers_for_which_character_shot_first if answer == answer]"
   ]
  },
  {
   "cell_type": "markdown",
   "metadata": {},
   "source": [
    "##### Comparing Movie Ratings "
   ]
  },
  {
   "cell_type": "code",
   "execution_count": 30,
   "metadata": {},
   "outputs": [
    {
     "data": {
      "image/png": "[encoded data removed]",
      "text/plain": [
       "<Figure size 432x288 with 1 Axes>"
      ]
     },
     "metadata": {
      "needs_background": "light"
     },
     "output_type": "display_data"
    },
    {
     "data": {
      "image/png": "[encoded data removed]",
      "text/plain": [
       "<Figure size 432x288 with 1 Axes>"
      ]
     },
     "metadata": {
      "needs_background": "light"
     },
     "output_type": "display_data"
    },
    {
     "data": {
      "image/png": "[encoded data removed]",
      "text/plain": [
       "<Figure size 432x288 with 1 Axes>"
      ]
     },
     "metadata": {
      "needs_background": "light"
     },
     "output_type": "display_data"
    }
   ],
   "source": [
    "for answer_data in Which_character_shot_first_answer_segmented_data:\n",
    "    plt.bar(range(6),answer_data[ranking_6_movies_cols].mean())\n",
    "    plt.show()"
   ]
  },
  {
   "cell_type": "markdown",
   "metadata": {},
   "source": [
    "##### Comparing Movie Views"
   ]
  },
  {
   "cell_type": "code",
   "execution_count": 31,
   "metadata": {},
   "outputs": [
    {
     "data": {
      "image/png": "[encoded data removed]",
      "text/plain": [
       "<Figure size 432x288 with 1 Axes>"
      ]
     },
     "metadata": {
      "needs_background": "light"
     },
     "output_type": "display_data"
    },
    {
     "data": {
      "image/png": "[encoded data removed]",
      "text/plain": [
       "<Figure size 432x288 with 1 Axes>"
      ]
     },
     "metadata": {
      "needs_background": "light"
     },
     "output_type": "display_data"
    },
    {
     "data": {
      "image/png": "[encoded data removed]",
      "text/plain": [
       "<Figure size 432x288 with 1 Axes>"
      ]
     },
     "metadata": {
      "needs_background": "light"
     },
     "output_type": "display_data"
    }
   ],
   "source": [
    "for answer_data in Which_character_shot_first_answer_segmented_data:\n",
    "    plt.bar(range(6),answer_data[seen_any_6_movs_cols].sum())\n",
    "    plt.show()"
   ]
  },
  {
   "cell_type": "code",
   "execution_count": 32,
   "metadata": {},
   "outputs": [
    {
     "data": {
      "text/html": [
       "<div>\n",
       "<style scoped>\n",
       "    .dataframe tbody tr th:only-of-type {\n",
       "        vertical-align: middle;\n",
       "    }\n",
       "\n",
       "    .dataframe tbody tr th {\n",
       "        vertical-align: top;\n",
       "    }\n",
       "\n",
       "    .dataframe thead th {\n",
       "        text-align: right;\n",
       "    }\n",
       "</style>\n",
       "<table border=\"1\" class=\"dataframe\">\n",
       "  <thead>\n",
       "    <tr style=\"text-align: right;\">\n",
       "      <th></th>\n",
       "      <th>Please state whether you view the following characters favorably, unfavorably, or are unfamiliar with him/her.</th>\n",
       "      <th>Unnamed: 16</th>\n",
       "      <th>Unnamed: 17</th>\n",
       "      <th>Unnamed: 18</th>\n",
       "      <th>Unnamed: 19</th>\n",
       "      <th>Unnamed: 20</th>\n",
       "      <th>Unnamed: 21</th>\n",
       "      <th>Unnamed: 22</th>\n",
       "      <th>Unnamed: 23</th>\n",
       "      <th>Unnamed: 24</th>\n",
       "      <th>Unnamed: 25</th>\n",
       "      <th>Unnamed: 26</th>\n",
       "      <th>Unnamed: 27</th>\n",
       "      <th>Unnamed: 28</th>\n",
       "    </tr>\n",
       "  </thead>\n",
       "  <tbody>\n",
       "    <tr>\n",
       "      <th>0</th>\n",
       "      <td>Very favorably</td>\n",
       "      <td>Very favorably</td>\n",
       "      <td>Very favorably</td>\n",
       "      <td>Very favorably</td>\n",
       "      <td>Very favorably</td>\n",
       "      <td>Very favorably</td>\n",
       "      <td>Very favorably</td>\n",
       "      <td>Unfamiliar (N/A)</td>\n",
       "      <td>Unfamiliar (N/A)</td>\n",
       "      <td>Very favorably</td>\n",
       "      <td>Very favorably</td>\n",
       "      <td>Very favorably</td>\n",
       "      <td>Very favorably</td>\n",
       "      <td>Very favorably</td>\n",
       "    </tr>\n",
       "    <tr>\n",
       "      <th>1</th>\n",
       "      <td>NaN</td>\n",
       "      <td>NaN</td>\n",
       "      <td>NaN</td>\n",
       "      <td>NaN</td>\n",
       "      <td>NaN</td>\n",
       "      <td>NaN</td>\n",
       "      <td>NaN</td>\n",
       "      <td>NaN</td>\n",
       "      <td>NaN</td>\n",
       "      <td>NaN</td>\n",
       "      <td>NaN</td>\n",
       "      <td>NaN</td>\n",
       "      <td>NaN</td>\n",
       "      <td>NaN</td>\n",
       "    </tr>\n",
       "    <tr>\n",
       "      <th>2</th>\n",
       "      <td>Somewhat favorably</td>\n",
       "      <td>Somewhat favorably</td>\n",
       "      <td>Somewhat favorably</td>\n",
       "      <td>Somewhat favorably</td>\n",
       "      <td>Somewhat favorably</td>\n",
       "      <td>Unfamiliar (N/A)</td>\n",
       "      <td>Unfamiliar (N/A)</td>\n",
       "      <td>Unfamiliar (N/A)</td>\n",
       "      <td>Unfamiliar (N/A)</td>\n",
       "      <td>Unfamiliar (N/A)</td>\n",
       "      <td>Unfamiliar (N/A)</td>\n",
       "      <td>Unfamiliar (N/A)</td>\n",
       "      <td>Unfamiliar (N/A)</td>\n",
       "      <td>Unfamiliar (N/A)</td>\n",
       "    </tr>\n",
       "    <tr>\n",
       "      <th>3</th>\n",
       "      <td>Very favorably</td>\n",
       "      <td>Very favorably</td>\n",
       "      <td>Very favorably</td>\n",
       "      <td>Very favorably</td>\n",
       "      <td>Very favorably</td>\n",
       "      <td>Somewhat favorably</td>\n",
       "      <td>Very favorably</td>\n",
       "      <td>Somewhat favorably</td>\n",
       "      <td>Somewhat unfavorably</td>\n",
       "      <td>Very favorably</td>\n",
       "      <td>Very favorably</td>\n",
       "      <td>Very favorably</td>\n",
       "      <td>Very favorably</td>\n",
       "      <td>Very favorably</td>\n",
       "    </tr>\n",
       "    <tr>\n",
       "      <th>4</th>\n",
       "      <td>Very favorably</td>\n",
       "      <td>Somewhat favorably</td>\n",
       "      <td>Somewhat favorably</td>\n",
       "      <td>Somewhat unfavorably</td>\n",
       "      <td>Very favorably</td>\n",
       "      <td>Very unfavorably</td>\n",
       "      <td>Somewhat favorably</td>\n",
       "      <td>Neither favorably nor unfavorably (neutral)</td>\n",
       "      <td>Very favorably</td>\n",
       "      <td>Somewhat favorably</td>\n",
       "      <td>Somewhat favorably</td>\n",
       "      <td>Very unfavorably</td>\n",
       "      <td>Somewhat favorably</td>\n",
       "      <td>Somewhat favorably</td>\n",
       "    </tr>\n",
       "    <tr>\n",
       "      <th>...</th>\n",
       "      <td>...</td>\n",
       "      <td>...</td>\n",
       "      <td>...</td>\n",
       "      <td>...</td>\n",
       "      <td>...</td>\n",
       "      <td>...</td>\n",
       "      <td>...</td>\n",
       "      <td>...</td>\n",
       "      <td>...</td>\n",
       "      <td>...</td>\n",
       "      <td>...</td>\n",
       "      <td>...</td>\n",
       "      <td>...</td>\n",
       "      <td>...</td>\n",
       "    </tr>\n",
       "    <tr>\n",
       "      <th>1181</th>\n",
       "      <td>Very favorably</td>\n",
       "      <td>Somewhat favorably</td>\n",
       "      <td>Somewhat favorably</td>\n",
       "      <td>Somewhat favorably</td>\n",
       "      <td>Very favorably</td>\n",
       "      <td>Somewhat favorably</td>\n",
       "      <td>Somewhat favorably</td>\n",
       "      <td>Somewhat favorably</td>\n",
       "      <td>Somewhat favorably</td>\n",
       "      <td>Very favorably</td>\n",
       "      <td>Very favorably</td>\n",
       "      <td>Somewhat favorably</td>\n",
       "      <td>Somewhat favorably</td>\n",
       "      <td>Very favorably</td>\n",
       "    </tr>\n",
       "    <tr>\n",
       "      <th>1182</th>\n",
       "      <td>Very favorably</td>\n",
       "      <td>Somewhat favorably</td>\n",
       "      <td>Very favorably</td>\n",
       "      <td>Somewhat unfavorably</td>\n",
       "      <td>Very favorably</td>\n",
       "      <td>Neither favorably nor unfavorably (neutral)</td>\n",
       "      <td>Very unfavorably</td>\n",
       "      <td>Somewhat favorably</td>\n",
       "      <td>Unfamiliar (N/A)</td>\n",
       "      <td>Somewhat favorably</td>\n",
       "      <td>Very favorably</td>\n",
       "      <td>Somewhat unfavorably</td>\n",
       "      <td>Somewhat unfavorably</td>\n",
       "      <td>Very favorably</td>\n",
       "    </tr>\n",
       "    <tr>\n",
       "      <th>1183</th>\n",
       "      <td>NaN</td>\n",
       "      <td>NaN</td>\n",
       "      <td>NaN</td>\n",
       "      <td>NaN</td>\n",
       "      <td>NaN</td>\n",
       "      <td>NaN</td>\n",
       "      <td>NaN</td>\n",
       "      <td>NaN</td>\n",
       "      <td>NaN</td>\n",
       "      <td>NaN</td>\n",
       "      <td>NaN</td>\n",
       "      <td>NaN</td>\n",
       "      <td>NaN</td>\n",
       "      <td>NaN</td>\n",
       "    </tr>\n",
       "    <tr>\n",
       "      <th>1184</th>\n",
       "      <td>Very favorably</td>\n",
       "      <td>Neither favorably nor unfavorably (neutral)</td>\n",
       "      <td>Very favorably</td>\n",
       "      <td>Very favorably</td>\n",
       "      <td>Very favorably</td>\n",
       "      <td>Neither favorably nor unfavorably (neutral)</td>\n",
       "      <td>Very favorably</td>\n",
       "      <td>Somewhat favorably</td>\n",
       "      <td>Very favorably</td>\n",
       "      <td>Somewhat favorably</td>\n",
       "      <td>Somewhat favorably</td>\n",
       "      <td>Very favorably</td>\n",
       "      <td>Somewhat favorably</td>\n",
       "      <td>Very favorably</td>\n",
       "    </tr>\n",
       "    <tr>\n",
       "      <th>1185</th>\n",
       "      <td>Very favorably</td>\n",
       "      <td>Very favorably</td>\n",
       "      <td>Very favorably</td>\n",
       "      <td>Very unfavorably</td>\n",
       "      <td>Very favorably</td>\n",
       "      <td>Very unfavorably</td>\n",
       "      <td>Very favorably</td>\n",
       "      <td>Very unfavorably</td>\n",
       "      <td>Unfamiliar (N/A)</td>\n",
       "      <td>Somewhat favorably</td>\n",
       "      <td>Somewhat favorably</td>\n",
       "      <td>Very unfavorably</td>\n",
       "      <td>Neither favorably nor unfavorably (neutral)</td>\n",
       "      <td>Very unfavorably</td>\n",
       "    </tr>\n",
       "  </tbody>\n",
       "</table>\n",
       "<p>1186 rows × 14 columns</p>\n",
       "</div>"
      ],
      "text/plain": [
       "     Please state whether you view the following characters favorably, unfavorably, or are unfamiliar with him/her.  \\\n",
       "0                                        Very favorably                                                               \n",
       "1                                                   NaN                                                               \n",
       "2                                    Somewhat favorably                                                               \n",
       "3                                        Very favorably                                                               \n",
       "4                                        Very favorably                                                               \n",
       "...                                                 ...                                                               \n",
       "1181                                     Very favorably                                                               \n",
       "1182                                     Very favorably                                                               \n",
       "1183                                                NaN                                                               \n",
       "1184                                     Very favorably                                                               \n",
       "1185                                     Very favorably                                                               \n",
       "\n",
       "                                      Unnamed: 16         Unnamed: 17  \\\n",
       "0                                  Very favorably      Very favorably   \n",
       "1                                             NaN                 NaN   \n",
       "2                              Somewhat favorably  Somewhat favorably   \n",
       "3                                  Very favorably      Very favorably   \n",
       "4                              Somewhat favorably  Somewhat favorably   \n",
       "...                                           ...                 ...   \n",
       "1181                           Somewhat favorably  Somewhat favorably   \n",
       "1182                           Somewhat favorably      Very favorably   \n",
       "1183                                          NaN                 NaN   \n",
       "1184  Neither favorably nor unfavorably (neutral)      Very favorably   \n",
       "1185                               Very favorably      Very favorably   \n",
       "\n",
       "               Unnamed: 18         Unnamed: 19  \\\n",
       "0           Very favorably      Very favorably   \n",
       "1                      NaN                 NaN   \n",
       "2       Somewhat favorably  Somewhat favorably   \n",
       "3           Very favorably      Very favorably   \n",
       "4     Somewhat unfavorably      Very favorably   \n",
       "...                    ...                 ...   \n",
       "1181    Somewhat favorably      Very favorably   \n",
       "1182  Somewhat unfavorably      Very favorably   \n",
       "1183                   NaN                 NaN   \n",
       "1184        Very favorably      Very favorably   \n",
       "1185      Very unfavorably      Very favorably   \n",
       "\n",
       "                                      Unnamed: 20         Unnamed: 21  \\\n",
       "0                                  Very favorably      Very favorably   \n",
       "1                                             NaN                 NaN   \n",
       "2                                Unfamiliar (N/A)    Unfamiliar (N/A)   \n",
       "3                              Somewhat favorably      Very favorably   \n",
       "4                                Very unfavorably  Somewhat favorably   \n",
       "...                                           ...                 ...   \n",
       "1181                           Somewhat favorably  Somewhat favorably   \n",
       "1182  Neither favorably nor unfavorably (neutral)    Very unfavorably   \n",
       "1183                                          NaN                 NaN   \n",
       "1184  Neither favorably nor unfavorably (neutral)      Very favorably   \n",
       "1185                             Very unfavorably      Very favorably   \n",
       "\n",
       "                                      Unnamed: 22           Unnamed: 23  \\\n",
       "0                                Unfamiliar (N/A)      Unfamiliar (N/A)   \n",
       "1                                             NaN                   NaN   \n",
       "2                                Unfamiliar (N/A)      Unfamiliar (N/A)   \n",
       "3                              Somewhat favorably  Somewhat unfavorably   \n",
       "4     Neither favorably nor unfavorably (neutral)        Very favorably   \n",
       "...                                           ...                   ...   \n",
       "1181                           Somewhat favorably    Somewhat favorably   \n",
       "1182                           Somewhat favorably      Unfamiliar (N/A)   \n",
       "1183                                          NaN                   NaN   \n",
       "1184                           Somewhat favorably        Very favorably   \n",
       "1185                             Very unfavorably      Unfamiliar (N/A)   \n",
       "\n",
       "             Unnamed: 24         Unnamed: 25           Unnamed: 26  \\\n",
       "0         Very favorably      Very favorably        Very favorably   \n",
       "1                    NaN                 NaN                   NaN   \n",
       "2       Unfamiliar (N/A)    Unfamiliar (N/A)      Unfamiliar (N/A)   \n",
       "3         Very favorably      Very favorably        Very favorably   \n",
       "4     Somewhat favorably  Somewhat favorably      Very unfavorably   \n",
       "...                  ...                 ...                   ...   \n",
       "1181      Very favorably      Very favorably    Somewhat favorably   \n",
       "1182  Somewhat favorably      Very favorably  Somewhat unfavorably   \n",
       "1183                 NaN                 NaN                   NaN   \n",
       "1184  Somewhat favorably  Somewhat favorably        Very favorably   \n",
       "1185  Somewhat favorably  Somewhat favorably      Very unfavorably   \n",
       "\n",
       "                                      Unnamed: 27         Unnamed: 28  \n",
       "0                                  Very favorably      Very favorably  \n",
       "1                                             NaN                 NaN  \n",
       "2                                Unfamiliar (N/A)    Unfamiliar (N/A)  \n",
       "3                                  Very favorably      Very favorably  \n",
       "4                              Somewhat favorably  Somewhat favorably  \n",
       "...                                           ...                 ...  \n",
       "1181                           Somewhat favorably      Very favorably  \n",
       "1182                         Somewhat unfavorably      Very favorably  \n",
       "1183                                          NaN                 NaN  \n",
       "1184                           Somewhat favorably      Very favorably  \n",
       "1185  Neither favorably nor unfavorably (neutral)    Very unfavorably  \n",
       "\n",
       "[1186 rows x 14 columns]"
      ]
     },
     "execution_count": 32,
     "metadata": {},
     "output_type": "execute_result"
    }
   ],
   "source": [
    "star_wars.iloc[:,15:29]"
   ]
  },
  {
   "cell_type": "code",
   "execution_count": 33,
   "metadata": {},
   "outputs": [
    {
     "name": "stdout",
     "output_type": "stream",
     "text": [
      "Index(['RespondentID',\n",
      "       'Have you seen any of the 6 films in the Star Wars franchise?',\n",
      "       'Do you consider yourself to be a fan of the Star Wars film franchise?',\n",
      "       'seen_1', 'seen_2', 'seen_3', 'seen_4', 'seen_5', 'seen_6', 'ranking_1',\n",
      "       'ranking_2', 'ranking_3', 'ranking_4', 'ranking_5', 'ranking_6',\n",
      "       'view_character_1', 'view_character_2', 'view_character_3',\n",
      "       'view_character_4', 'view_character_5', 'view_character_6',\n",
      "       'view_character_7', 'view_character_8', 'view_character_9',\n",
      "       'view_character_10', 'view_character_11', 'view_character_12',\n",
      "       'view_character_13', 'view_character_14', 'Which character shot first?',\n",
      "       'Are you familiar with the Expanded Universe?',\n",
      "       'Do you consider yourself to be a fan of the Expanded Universe?',\n",
      "       'Do you consider yourself to be a fan of the Star Trek franchise?',\n",
      "       'Gender', 'Age', 'Household Income', 'Education',\n",
      "       'Location (Census Region)'],\n",
      "      dtype='object')\n"
     ]
    }
   ],
   "source": [
    "# rename columns pertaining to favorability of a character(i.e for the Question : Please state whether you view the following characters favorably, unfavorably, or are unfamiliar with him/her.)\n",
    "character_favorability_mapper={}\n",
    "character_favorability_cols=[\"view_character_{}\".format(i) for i in range(1,15)]\n",
    "for old_col_name,new_col_name in zip(star_wars.columns[15:29],character_favorability_cols):\n",
    "    character_favorability_mapper[old_col_name]=new_col_name\n",
    "    \n",
    "star_wars=star_wars.rename(columns=character_favorability_mapper)\n",
    "print(star_wars.columns)"
   ]
  },
  {
   "cell_type": "markdown",
   "metadata": {},
   "source": [
    "# Computing number of favorable, unfavorable, neutral and unfamiliar views each character gets"
   ]
  },
  {
   "cell_type": "code",
   "execution_count": 34,
   "metadata": {},
   "outputs": [
    {
     "name": "stdout",
     "output_type": "stream",
     "text": [
      "['Very favorably', 'Somewhat favorably', 'Neither favorably nor unfavorably (neutral)', 'Somewhat unfavorably', 'Unfamiliar (N/A)', 'Very unfavorably']\n"
     ]
    }
   ],
   "source": [
    "# retrieving the responses that can be chosen for each character and broadly grouping views\n",
    "favorability_values = pd.concat([star_wars[character_favorability] for character_favorability in character_favorability_cols]).unique()\n",
    "\n",
    "check_boxes_options=[value for value in favorability_values if value == value]\n",
    "print(check_boxes_options)\n",
    "\n",
    "favorable_keywords=['Very favorably', 'Somewhat favorably']\n",
    "unfavorable_keywords=['Very unfavorably', 'Somewhat unfavorably']"
   ]
  },
  {
   "cell_type": "code",
   "execution_count": 35,
   "metadata": {},
   "outputs": [
    {
     "data": {
      "text/html": [
       "<div>\n",
       "<style scoped>\n",
       "    .dataframe tbody tr th:only-of-type {\n",
       "        vertical-align: middle;\n",
       "    }\n",
       "\n",
       "    .dataframe tbody tr th {\n",
       "        vertical-align: top;\n",
       "    }\n",
       "\n",
       "    .dataframe thead th {\n",
       "        text-align: right;\n",
       "    }\n",
       "</style>\n",
       "<table border=\"1\" class=\"dataframe\">\n",
       "  <thead>\n",
       "    <tr style=\"text-align: right;\">\n",
       "      <th></th>\n",
       "      <th>Very favorably</th>\n",
       "      <th>Somewhat favorably</th>\n",
       "      <th>Neither favorably nor unfavorably (neutral)</th>\n",
       "      <th>Unfamiliar (N/A)</th>\n",
       "      <th>Somewhat unfavorably</th>\n",
       "      <th>Very unfavorably</th>\n",
       "    </tr>\n",
       "  </thead>\n",
       "  <tbody>\n",
       "    <tr>\n",
       "      <th>view_character_1</th>\n",
       "      <td>610</td>\n",
       "      <td>151</td>\n",
       "      <td>44</td>\n",
       "      <td>15</td>\n",
       "      <td>8</td>\n",
       "      <td>1</td>\n",
       "    </tr>\n",
       "    <tr>\n",
       "      <th>view_character_2</th>\n",
       "      <td>552</td>\n",
       "      <td>219</td>\n",
       "      <td>38</td>\n",
       "      <td>6</td>\n",
       "      <td>13</td>\n",
       "      <td>3</td>\n",
       "    </tr>\n",
       "    <tr>\n",
       "      <th>view_character_3</th>\n",
       "      <td>547</td>\n",
       "      <td>210</td>\n",
       "      <td>48</td>\n",
       "      <td>8</td>\n",
       "      <td>12</td>\n",
       "      <td>6</td>\n",
       "    </tr>\n",
       "    <tr>\n",
       "      <th>view_character_4</th>\n",
       "      <td>245</td>\n",
       "      <td>269</td>\n",
       "      <td>135</td>\n",
       "      <td>52</td>\n",
       "      <td>83</td>\n",
       "      <td>39</td>\n",
       "    </tr>\n",
       "    <tr>\n",
       "      <th>view_character_5</th>\n",
       "      <td>591</td>\n",
       "      <td>159</td>\n",
       "      <td>43</td>\n",
       "      <td>17</td>\n",
       "      <td>8</td>\n",
       "      <td>7</td>\n",
       "    </tr>\n",
       "    <tr>\n",
       "      <th>view_character_6</th>\n",
       "      <td>110</td>\n",
       "      <td>143</td>\n",
       "      <td>213</td>\n",
       "      <td>156</td>\n",
       "      <td>68</td>\n",
       "      <td>124</td>\n",
       "    </tr>\n",
       "    <tr>\n",
       "      <th>view_character_7</th>\n",
       "      <td>310</td>\n",
       "      <td>171</td>\n",
       "      <td>84</td>\n",
       "      <td>10</td>\n",
       "      <td>102</td>\n",
       "      <td>149</td>\n",
       "    </tr>\n",
       "    <tr>\n",
       "      <th>view_character_8</th>\n",
       "      <td>142</td>\n",
       "      <td>223</td>\n",
       "      <td>236</td>\n",
       "      <td>148</td>\n",
       "      <td>63</td>\n",
       "      <td>8</td>\n",
       "    </tr>\n",
       "    <tr>\n",
       "      <th>view_character_9</th>\n",
       "      <td>138</td>\n",
       "      <td>153</td>\n",
       "      <td>248</td>\n",
       "      <td>132</td>\n",
       "      <td>96</td>\n",
       "      <td>45</td>\n",
       "    </tr>\n",
       "    <tr>\n",
       "      <th>view_character_10</th>\n",
       "      <td>474</td>\n",
       "      <td>229</td>\n",
       "      <td>79</td>\n",
       "      <td>15</td>\n",
       "      <td>23</td>\n",
       "      <td>7</td>\n",
       "    </tr>\n",
       "    <tr>\n",
       "      <th>view_character_11</th>\n",
       "      <td>562</td>\n",
       "      <td>185</td>\n",
       "      <td>57</td>\n",
       "      <td>10</td>\n",
       "      <td>10</td>\n",
       "      <td>6</td>\n",
       "    </tr>\n",
       "    <tr>\n",
       "      <th>view_character_12</th>\n",
       "      <td>112</td>\n",
       "      <td>130</td>\n",
       "      <td>164</td>\n",
       "      <td>109</td>\n",
       "      <td>102</td>\n",
       "      <td>204</td>\n",
       "    </tr>\n",
       "    <tr>\n",
       "      <th>view_character_13</th>\n",
       "      <td>168</td>\n",
       "      <td>183</td>\n",
       "      <td>207</td>\n",
       "      <td>164</td>\n",
       "      <td>58</td>\n",
       "      <td>34</td>\n",
       "    </tr>\n",
       "    <tr>\n",
       "      <th>view_character_14</th>\n",
       "      <td>605</td>\n",
       "      <td>144</td>\n",
       "      <td>51</td>\n",
       "      <td>10</td>\n",
       "      <td>8</td>\n",
       "      <td>8</td>\n",
       "    </tr>\n",
       "  </tbody>\n",
       "</table>\n",
       "</div>"
      ],
      "text/plain": [
       "                   Very favorably  Somewhat favorably  \\\n",
       "view_character_1              610                 151   \n",
       "view_character_2              552                 219   \n",
       "view_character_3              547                 210   \n",
       "view_character_4              245                 269   \n",
       "view_character_5              591                 159   \n",
       "view_character_6              110                 143   \n",
       "view_character_7              310                 171   \n",
       "view_character_8              142                 223   \n",
       "view_character_9              138                 153   \n",
       "view_character_10             474                 229   \n",
       "view_character_11             562                 185   \n",
       "view_character_12             112                 130   \n",
       "view_character_13             168                 183   \n",
       "view_character_14             605                 144   \n",
       "\n",
       "                   Neither favorably nor unfavorably (neutral)  \\\n",
       "view_character_1                                            44   \n",
       "view_character_2                                            38   \n",
       "view_character_3                                            48   \n",
       "view_character_4                                           135   \n",
       "view_character_5                                            43   \n",
       "view_character_6                                           213   \n",
       "view_character_7                                            84   \n",
       "view_character_8                                           236   \n",
       "view_character_9                                           248   \n",
       "view_character_10                                           79   \n",
       "view_character_11                                           57   \n",
       "view_character_12                                          164   \n",
       "view_character_13                                          207   \n",
       "view_character_14                                           51   \n",
       "\n",
       "                   Unfamiliar (N/A)  Somewhat unfavorably  Very unfavorably  \n",
       "view_character_1                 15                     8                 1  \n",
       "view_character_2                  6                    13                 3  \n",
       "view_character_3                  8                    12                 6  \n",
       "view_character_4                 52                    83                39  \n",
       "view_character_5                 17                     8                 7  \n",
       "view_character_6                156                    68               124  \n",
       "view_character_7                 10                   102               149  \n",
       "view_character_8                148                    63                 8  \n",
       "view_character_9                132                    96                45  \n",
       "view_character_10                15                    23                 7  \n",
       "view_character_11                10                    10                 6  \n",
       "view_character_12               109                   102               204  \n",
       "view_character_13               164                    58                34  \n",
       "view_character_14                10                     8                 8  "
      ]
     },
     "execution_count": 35,
     "metadata": {},
     "output_type": "execute_result"
    }
   ],
   "source": [
    "combined_characters_views_list=[star_wars[character_favorability_col].value_counts().to_frame().transpose() for character_favorability_col in character_favorability_cols]\n",
    "combined_characters_views_df=pd.concat(combined_characters_views_list)\n",
    "combined_characters_views_df"
   ]
  },
  {
   "cell_type": "code",
   "execution_count": 36,
   "metadata": {},
   "outputs": [
    {
     "data": {
      "text/html": [
       "<div>\n",
       "<style scoped>\n",
       "    .dataframe tbody tr th:only-of-type {\n",
       "        vertical-align: middle;\n",
       "    }\n",
       "\n",
       "    .dataframe tbody tr th {\n",
       "        vertical-align: top;\n",
       "    }\n",
       "\n",
       "    .dataframe thead th {\n",
       "        text-align: right;\n",
       "    }\n",
       "</style>\n",
       "<table border=\"1\" class=\"dataframe\">\n",
       "  <thead>\n",
       "    <tr style=\"text-align: right;\">\n",
       "      <th></th>\n",
       "      <th>Very favorably</th>\n",
       "      <th>Somewhat favorably</th>\n",
       "      <th>Neither favorably nor unfavorably (neutral)</th>\n",
       "      <th>Unfamiliar (N/A)</th>\n",
       "      <th>Somewhat unfavorably</th>\n",
       "      <th>Very unfavorably</th>\n",
       "      <th>total_favorable_views</th>\n",
       "      <th>total_unfavorable_views</th>\n",
       "    </tr>\n",
       "  </thead>\n",
       "  <tbody>\n",
       "    <tr>\n",
       "      <th>view_character_1</th>\n",
       "      <td>610</td>\n",
       "      <td>151</td>\n",
       "      <td>44</td>\n",
       "      <td>15</td>\n",
       "      <td>8</td>\n",
       "      <td>1</td>\n",
       "      <td>761</td>\n",
       "      <td>9</td>\n",
       "    </tr>\n",
       "    <tr>\n",
       "      <th>view_character_2</th>\n",
       "      <td>552</td>\n",
       "      <td>219</td>\n",
       "      <td>38</td>\n",
       "      <td>6</td>\n",
       "      <td>13</td>\n",
       "      <td>3</td>\n",
       "      <td>771</td>\n",
       "      <td>16</td>\n",
       "    </tr>\n",
       "    <tr>\n",
       "      <th>view_character_3</th>\n",
       "      <td>547</td>\n",
       "      <td>210</td>\n",
       "      <td>48</td>\n",
       "      <td>8</td>\n",
       "      <td>12</td>\n",
       "      <td>6</td>\n",
       "      <td>757</td>\n",
       "      <td>18</td>\n",
       "    </tr>\n",
       "    <tr>\n",
       "      <th>view_character_4</th>\n",
       "      <td>245</td>\n",
       "      <td>269</td>\n",
       "      <td>135</td>\n",
       "      <td>52</td>\n",
       "      <td>83</td>\n",
       "      <td>39</td>\n",
       "      <td>514</td>\n",
       "      <td>122</td>\n",
       "    </tr>\n",
       "    <tr>\n",
       "      <th>view_character_5</th>\n",
       "      <td>591</td>\n",
       "      <td>159</td>\n",
       "      <td>43</td>\n",
       "      <td>17</td>\n",
       "      <td>8</td>\n",
       "      <td>7</td>\n",
       "      <td>750</td>\n",
       "      <td>15</td>\n",
       "    </tr>\n",
       "    <tr>\n",
       "      <th>view_character_6</th>\n",
       "      <td>110</td>\n",
       "      <td>143</td>\n",
       "      <td>213</td>\n",
       "      <td>156</td>\n",
       "      <td>68</td>\n",
       "      <td>124</td>\n",
       "      <td>253</td>\n",
       "      <td>192</td>\n",
       "    </tr>\n",
       "    <tr>\n",
       "      <th>view_character_7</th>\n",
       "      <td>310</td>\n",
       "      <td>171</td>\n",
       "      <td>84</td>\n",
       "      <td>10</td>\n",
       "      <td>102</td>\n",
       "      <td>149</td>\n",
       "      <td>481</td>\n",
       "      <td>251</td>\n",
       "    </tr>\n",
       "    <tr>\n",
       "      <th>view_character_8</th>\n",
       "      <td>142</td>\n",
       "      <td>223</td>\n",
       "      <td>236</td>\n",
       "      <td>148</td>\n",
       "      <td>63</td>\n",
       "      <td>8</td>\n",
       "      <td>365</td>\n",
       "      <td>71</td>\n",
       "    </tr>\n",
       "    <tr>\n",
       "      <th>view_character_9</th>\n",
       "      <td>138</td>\n",
       "      <td>153</td>\n",
       "      <td>248</td>\n",
       "      <td>132</td>\n",
       "      <td>96</td>\n",
       "      <td>45</td>\n",
       "      <td>291</td>\n",
       "      <td>141</td>\n",
       "    </tr>\n",
       "    <tr>\n",
       "      <th>view_character_10</th>\n",
       "      <td>474</td>\n",
       "      <td>229</td>\n",
       "      <td>79</td>\n",
       "      <td>15</td>\n",
       "      <td>23</td>\n",
       "      <td>7</td>\n",
       "      <td>703</td>\n",
       "      <td>30</td>\n",
       "    </tr>\n",
       "    <tr>\n",
       "      <th>view_character_11</th>\n",
       "      <td>562</td>\n",
       "      <td>185</td>\n",
       "      <td>57</td>\n",
       "      <td>10</td>\n",
       "      <td>10</td>\n",
       "      <td>6</td>\n",
       "      <td>747</td>\n",
       "      <td>16</td>\n",
       "    </tr>\n",
       "    <tr>\n",
       "      <th>view_character_12</th>\n",
       "      <td>112</td>\n",
       "      <td>130</td>\n",
       "      <td>164</td>\n",
       "      <td>109</td>\n",
       "      <td>102</td>\n",
       "      <td>204</td>\n",
       "      <td>242</td>\n",
       "      <td>306</td>\n",
       "    </tr>\n",
       "    <tr>\n",
       "      <th>view_character_13</th>\n",
       "      <td>168</td>\n",
       "      <td>183</td>\n",
       "      <td>207</td>\n",
       "      <td>164</td>\n",
       "      <td>58</td>\n",
       "      <td>34</td>\n",
       "      <td>351</td>\n",
       "      <td>92</td>\n",
       "    </tr>\n",
       "    <tr>\n",
       "      <th>view_character_14</th>\n",
       "      <td>605</td>\n",
       "      <td>144</td>\n",
       "      <td>51</td>\n",
       "      <td>10</td>\n",
       "      <td>8</td>\n",
       "      <td>8</td>\n",
       "      <td>749</td>\n",
       "      <td>16</td>\n",
       "    </tr>\n",
       "  </tbody>\n",
       "</table>\n",
       "</div>"
      ],
      "text/plain": [
       "                   Very favorably  Somewhat favorably  \\\n",
       "view_character_1              610                 151   \n",
       "view_character_2              552                 219   \n",
       "view_character_3              547                 210   \n",
       "view_character_4              245                 269   \n",
       "view_character_5              591                 159   \n",
       "view_character_6              110                 143   \n",
       "view_character_7              310                 171   \n",
       "view_character_8              142                 223   \n",
       "view_character_9              138                 153   \n",
       "view_character_10             474                 229   \n",
       "view_character_11             562                 185   \n",
       "view_character_12             112                 130   \n",
       "view_character_13             168                 183   \n",
       "view_character_14             605                 144   \n",
       "\n",
       "                   Neither favorably nor unfavorably (neutral)  \\\n",
       "view_character_1                                            44   \n",
       "view_character_2                                            38   \n",
       "view_character_3                                            48   \n",
       "view_character_4                                           135   \n",
       "view_character_5                                            43   \n",
       "view_character_6                                           213   \n",
       "view_character_7                                            84   \n",
       "view_character_8                                           236   \n",
       "view_character_9                                           248   \n",
       "view_character_10                                           79   \n",
       "view_character_11                                           57   \n",
       "view_character_12                                          164   \n",
       "view_character_13                                          207   \n",
       "view_character_14                                           51   \n",
       "\n",
       "                   Unfamiliar (N/A)  Somewhat unfavorably  Very unfavorably  \\\n",
       "view_character_1                 15                     8                 1   \n",
       "view_character_2                  6                    13                 3   \n",
       "view_character_3                  8                    12                 6   \n",
       "view_character_4                 52                    83                39   \n",
       "view_character_5                 17                     8                 7   \n",
       "view_character_6                156                    68               124   \n",
       "view_character_7                 10                   102               149   \n",
       "view_character_8                148                    63                 8   \n",
       "view_character_9                132                    96                45   \n",
       "view_character_10                15                    23                 7   \n",
       "view_character_11                10                    10                 6   \n",
       "view_character_12               109                   102               204   \n",
       "view_character_13               164                    58                34   \n",
       "view_character_14                10                     8                 8   \n",
       "\n",
       "                   total_favorable_views  total_unfavorable_views  \n",
       "view_character_1                     761                        9  \n",
       "view_character_2                     771                       16  \n",
       "view_character_3                     757                       18  \n",
       "view_character_4                     514                      122  \n",
       "view_character_5                     750                       15  \n",
       "view_character_6                     253                      192  \n",
       "view_character_7                     481                      251  \n",
       "view_character_8                     365                       71  \n",
       "view_character_9                     291                      141  \n",
       "view_character_10                    703                       30  \n",
       "view_character_11                    747                       16  \n",
       "view_character_12                    242                      306  \n",
       "view_character_13                    351                       92  \n",
       "view_character_14                    749                       16  "
      ]
     },
     "execution_count": 36,
     "metadata": {},
     "output_type": "execute_result"
    }
   ],
   "source": [
    "combined_characters_views_df[\"total_favorable_views\"]=combined_characters_views_df[favorable_keywords].sum(axis=1)\n",
    "combined_characters_views_df[\"total_unfavorable_views\"]=combined_characters_views_df[unfavorable_keywords].sum(axis=1)\n",
    "combined_characters_views_df"
   ]
  },
  {
   "cell_type": "markdown",
   "metadata": {},
   "source": [
    "### _Character most liked by respondents_"
   ]
  },
  {
   "cell_type": "code",
   "execution_count": 37,
   "metadata": {},
   "outputs": [
    {
     "data": {
      "text/html": [
       "<div>\n",
       "<style scoped>\n",
       "    .dataframe tbody tr th:only-of-type {\n",
       "        vertical-align: middle;\n",
       "    }\n",
       "\n",
       "    .dataframe tbody tr th {\n",
       "        vertical-align: top;\n",
       "    }\n",
       "\n",
       "    .dataframe thead th {\n",
       "        text-align: right;\n",
       "    }\n",
       "</style>\n",
       "<table border=\"1\" class=\"dataframe\">\n",
       "  <thead>\n",
       "    <tr style=\"text-align: right;\">\n",
       "      <th></th>\n",
       "      <th>Very favorably</th>\n",
       "      <th>Somewhat favorably</th>\n",
       "      <th>Neither favorably nor unfavorably (neutral)</th>\n",
       "      <th>Unfamiliar (N/A)</th>\n",
       "      <th>Somewhat unfavorably</th>\n",
       "      <th>Very unfavorably</th>\n",
       "      <th>total_favorable_views</th>\n",
       "      <th>total_unfavorable_views</th>\n",
       "    </tr>\n",
       "  </thead>\n",
       "  <tbody>\n",
       "    <tr>\n",
       "      <th>view_character_2</th>\n",
       "      <td>552</td>\n",
       "      <td>219</td>\n",
       "      <td>38</td>\n",
       "      <td>6</td>\n",
       "      <td>13</td>\n",
       "      <td>3</td>\n",
       "      <td>771</td>\n",
       "      <td>16</td>\n",
       "    </tr>\n",
       "    <tr>\n",
       "      <th>view_character_1</th>\n",
       "      <td>610</td>\n",
       "      <td>151</td>\n",
       "      <td>44</td>\n",
       "      <td>15</td>\n",
       "      <td>8</td>\n",
       "      <td>1</td>\n",
       "      <td>761</td>\n",
       "      <td>9</td>\n",
       "    </tr>\n",
       "    <tr>\n",
       "      <th>view_character_3</th>\n",
       "      <td>547</td>\n",
       "      <td>210</td>\n",
       "      <td>48</td>\n",
       "      <td>8</td>\n",
       "      <td>12</td>\n",
       "      <td>6</td>\n",
       "      <td>757</td>\n",
       "      <td>18</td>\n",
       "    </tr>\n",
       "    <tr>\n",
       "      <th>view_character_5</th>\n",
       "      <td>591</td>\n",
       "      <td>159</td>\n",
       "      <td>43</td>\n",
       "      <td>17</td>\n",
       "      <td>8</td>\n",
       "      <td>7</td>\n",
       "      <td>750</td>\n",
       "      <td>15</td>\n",
       "    </tr>\n",
       "    <tr>\n",
       "      <th>view_character_14</th>\n",
       "      <td>605</td>\n",
       "      <td>144</td>\n",
       "      <td>51</td>\n",
       "      <td>10</td>\n",
       "      <td>8</td>\n",
       "      <td>8</td>\n",
       "      <td>749</td>\n",
       "      <td>16</td>\n",
       "    </tr>\n",
       "    <tr>\n",
       "      <th>view_character_11</th>\n",
       "      <td>562</td>\n",
       "      <td>185</td>\n",
       "      <td>57</td>\n",
       "      <td>10</td>\n",
       "      <td>10</td>\n",
       "      <td>6</td>\n",
       "      <td>747</td>\n",
       "      <td>16</td>\n",
       "    </tr>\n",
       "    <tr>\n",
       "      <th>view_character_10</th>\n",
       "      <td>474</td>\n",
       "      <td>229</td>\n",
       "      <td>79</td>\n",
       "      <td>15</td>\n",
       "      <td>23</td>\n",
       "      <td>7</td>\n",
       "      <td>703</td>\n",
       "      <td>30</td>\n",
       "    </tr>\n",
       "    <tr>\n",
       "      <th>view_character_4</th>\n",
       "      <td>245</td>\n",
       "      <td>269</td>\n",
       "      <td>135</td>\n",
       "      <td>52</td>\n",
       "      <td>83</td>\n",
       "      <td>39</td>\n",
       "      <td>514</td>\n",
       "      <td>122</td>\n",
       "    </tr>\n",
       "    <tr>\n",
       "      <th>view_character_7</th>\n",
       "      <td>310</td>\n",
       "      <td>171</td>\n",
       "      <td>84</td>\n",
       "      <td>10</td>\n",
       "      <td>102</td>\n",
       "      <td>149</td>\n",
       "      <td>481</td>\n",
       "      <td>251</td>\n",
       "    </tr>\n",
       "    <tr>\n",
       "      <th>view_character_8</th>\n",
       "      <td>142</td>\n",
       "      <td>223</td>\n",
       "      <td>236</td>\n",
       "      <td>148</td>\n",
       "      <td>63</td>\n",
       "      <td>8</td>\n",
       "      <td>365</td>\n",
       "      <td>71</td>\n",
       "    </tr>\n",
       "    <tr>\n",
       "      <th>view_character_13</th>\n",
       "      <td>168</td>\n",
       "      <td>183</td>\n",
       "      <td>207</td>\n",
       "      <td>164</td>\n",
       "      <td>58</td>\n",
       "      <td>34</td>\n",
       "      <td>351</td>\n",
       "      <td>92</td>\n",
       "    </tr>\n",
       "    <tr>\n",
       "      <th>view_character_9</th>\n",
       "      <td>138</td>\n",
       "      <td>153</td>\n",
       "      <td>248</td>\n",
       "      <td>132</td>\n",
       "      <td>96</td>\n",
       "      <td>45</td>\n",
       "      <td>291</td>\n",
       "      <td>141</td>\n",
       "    </tr>\n",
       "    <tr>\n",
       "      <th>view_character_6</th>\n",
       "      <td>110</td>\n",
       "      <td>143</td>\n",
       "      <td>213</td>\n",
       "      <td>156</td>\n",
       "      <td>68</td>\n",
       "      <td>124</td>\n",
       "      <td>253</td>\n",
       "      <td>192</td>\n",
       "    </tr>\n",
       "    <tr>\n",
       "      <th>view_character_12</th>\n",
       "      <td>112</td>\n",
       "      <td>130</td>\n",
       "      <td>164</td>\n",
       "      <td>109</td>\n",
       "      <td>102</td>\n",
       "      <td>204</td>\n",
       "      <td>242</td>\n",
       "      <td>306</td>\n",
       "    </tr>\n",
       "  </tbody>\n",
       "</table>\n",
       "</div>"
      ],
      "text/plain": [
       "                   Very favorably  Somewhat favorably  \\\n",
       "view_character_2              552                 219   \n",
       "view_character_1              610                 151   \n",
       "view_character_3              547                 210   \n",
       "view_character_5              591                 159   \n",
       "view_character_14             605                 144   \n",
       "view_character_11             562                 185   \n",
       "view_character_10             474                 229   \n",
       "view_character_4              245                 269   \n",
       "view_character_7              310                 171   \n",
       "view_character_8              142                 223   \n",
       "view_character_13             168                 183   \n",
       "view_character_9              138                 153   \n",
       "view_character_6              110                 143   \n",
       "view_character_12             112                 130   \n",
       "\n",
       "                   Neither favorably nor unfavorably (neutral)  \\\n",
       "view_character_2                                            38   \n",
       "view_character_1                                            44   \n",
       "view_character_3                                            48   \n",
       "view_character_5                                            43   \n",
       "view_character_14                                           51   \n",
       "view_character_11                                           57   \n",
       "view_character_10                                           79   \n",
       "view_character_4                                           135   \n",
       "view_character_7                                            84   \n",
       "view_character_8                                           236   \n",
       "view_character_13                                          207   \n",
       "view_character_9                                           248   \n",
       "view_character_6                                           213   \n",
       "view_character_12                                          164   \n",
       "\n",
       "                   Unfamiliar (N/A)  Somewhat unfavorably  Very unfavorably  \\\n",
       "view_character_2                  6                    13                 3   \n",
       "view_character_1                 15                     8                 1   \n",
       "view_character_3                  8                    12                 6   \n",
       "view_character_5                 17                     8                 7   \n",
       "view_character_14                10                     8                 8   \n",
       "view_character_11                10                    10                 6   \n",
       "view_character_10                15                    23                 7   \n",
       "view_character_4                 52                    83                39   \n",
       "view_character_7                 10                   102               149   \n",
       "view_character_8                148                    63                 8   \n",
       "view_character_13               164                    58                34   \n",
       "view_character_9                132                    96                45   \n",
       "view_character_6                156                    68               124   \n",
       "view_character_12               109                   102               204   \n",
       "\n",
       "                   total_favorable_views  total_unfavorable_views  \n",
       "view_character_2                     771                       16  \n",
       "view_character_1                     761                        9  \n",
       "view_character_3                     757                       18  \n",
       "view_character_5                     750                       15  \n",
       "view_character_14                    749                       16  \n",
       "view_character_11                    747                       16  \n",
       "view_character_10                    703                       30  \n",
       "view_character_4                     514                      122  \n",
       "view_character_7                     481                      251  \n",
       "view_character_8                     365                       71  \n",
       "view_character_13                    351                       92  \n",
       "view_character_9                     291                      141  \n",
       "view_character_6                     253                      192  \n",
       "view_character_12                    242                      306  "
      ]
     },
     "execution_count": 37,
     "metadata": {},
     "output_type": "execute_result"
    }
   ],
   "source": [
    "combined_characters_views_df.sort_values('total_favorable_views', ascending=False)"
   ]
  },
  {
   "cell_type": "markdown",
   "metadata": {},
   "source": [
    "Character 2 is most liked by respondents"
   ]
  },
  {
   "cell_type": "markdown",
   "metadata": {},
   "source": [
    "### _Character most disliked by respondents_"
   ]
  },
  {
   "cell_type": "code",
   "execution_count": 38,
   "metadata": {},
   "outputs": [
    {
     "data": {
      "text/html": [
       "<div>\n",
       "<style scoped>\n",
       "    .dataframe tbody tr th:only-of-type {\n",
       "        vertical-align: middle;\n",
       "    }\n",
       "\n",
       "    .dataframe tbody tr th {\n",
       "        vertical-align: top;\n",
       "    }\n",
       "\n",
       "    .dataframe thead th {\n",
       "        text-align: right;\n",
       "    }\n",
       "</style>\n",
       "<table border=\"1\" class=\"dataframe\">\n",
       "  <thead>\n",
       "    <tr style=\"text-align: right;\">\n",
       "      <th></th>\n",
       "      <th>Very favorably</th>\n",
       "      <th>Somewhat favorably</th>\n",
       "      <th>Neither favorably nor unfavorably (neutral)</th>\n",
       "      <th>Unfamiliar (N/A)</th>\n",
       "      <th>Somewhat unfavorably</th>\n",
       "      <th>Very unfavorably</th>\n",
       "      <th>total_favorable_views</th>\n",
       "      <th>total_unfavorable_views</th>\n",
       "    </tr>\n",
       "  </thead>\n",
       "  <tbody>\n",
       "    <tr>\n",
       "      <th>view_character_12</th>\n",
       "      <td>112</td>\n",
       "      <td>130</td>\n",
       "      <td>164</td>\n",
       "      <td>109</td>\n",
       "      <td>102</td>\n",
       "      <td>204</td>\n",
       "      <td>242</td>\n",
       "      <td>306</td>\n",
       "    </tr>\n",
       "    <tr>\n",
       "      <th>view_character_7</th>\n",
       "      <td>310</td>\n",
       "      <td>171</td>\n",
       "      <td>84</td>\n",
       "      <td>10</td>\n",
       "      <td>102</td>\n",
       "      <td>149</td>\n",
       "      <td>481</td>\n",
       "      <td>251</td>\n",
       "    </tr>\n",
       "    <tr>\n",
       "      <th>view_character_6</th>\n",
       "      <td>110</td>\n",
       "      <td>143</td>\n",
       "      <td>213</td>\n",
       "      <td>156</td>\n",
       "      <td>68</td>\n",
       "      <td>124</td>\n",
       "      <td>253</td>\n",
       "      <td>192</td>\n",
       "    </tr>\n",
       "    <tr>\n",
       "      <th>view_character_9</th>\n",
       "      <td>138</td>\n",
       "      <td>153</td>\n",
       "      <td>248</td>\n",
       "      <td>132</td>\n",
       "      <td>96</td>\n",
       "      <td>45</td>\n",
       "      <td>291</td>\n",
       "      <td>141</td>\n",
       "    </tr>\n",
       "    <tr>\n",
       "      <th>view_character_4</th>\n",
       "      <td>245</td>\n",
       "      <td>269</td>\n",
       "      <td>135</td>\n",
       "      <td>52</td>\n",
       "      <td>83</td>\n",
       "      <td>39</td>\n",
       "      <td>514</td>\n",
       "      <td>122</td>\n",
       "    </tr>\n",
       "    <tr>\n",
       "      <th>view_character_13</th>\n",
       "      <td>168</td>\n",
       "      <td>183</td>\n",
       "      <td>207</td>\n",
       "      <td>164</td>\n",
       "      <td>58</td>\n",
       "      <td>34</td>\n",
       "      <td>351</td>\n",
       "      <td>92</td>\n",
       "    </tr>\n",
       "    <tr>\n",
       "      <th>view_character_8</th>\n",
       "      <td>142</td>\n",
       "      <td>223</td>\n",
       "      <td>236</td>\n",
       "      <td>148</td>\n",
       "      <td>63</td>\n",
       "      <td>8</td>\n",
       "      <td>365</td>\n",
       "      <td>71</td>\n",
       "    </tr>\n",
       "    <tr>\n",
       "      <th>view_character_10</th>\n",
       "      <td>474</td>\n",
       "      <td>229</td>\n",
       "      <td>79</td>\n",
       "      <td>15</td>\n",
       "      <td>23</td>\n",
       "      <td>7</td>\n",
       "      <td>703</td>\n",
       "      <td>30</td>\n",
       "    </tr>\n",
       "    <tr>\n",
       "      <th>view_character_3</th>\n",
       "      <td>547</td>\n",
       "      <td>210</td>\n",
       "      <td>48</td>\n",
       "      <td>8</td>\n",
       "      <td>12</td>\n",
       "      <td>6</td>\n",
       "      <td>757</td>\n",
       "      <td>18</td>\n",
       "    </tr>\n",
       "    <tr>\n",
       "      <th>view_character_2</th>\n",
       "      <td>552</td>\n",
       "      <td>219</td>\n",
       "      <td>38</td>\n",
       "      <td>6</td>\n",
       "      <td>13</td>\n",
       "      <td>3</td>\n",
       "      <td>771</td>\n",
       "      <td>16</td>\n",
       "    </tr>\n",
       "    <tr>\n",
       "      <th>view_character_11</th>\n",
       "      <td>562</td>\n",
       "      <td>185</td>\n",
       "      <td>57</td>\n",
       "      <td>10</td>\n",
       "      <td>10</td>\n",
       "      <td>6</td>\n",
       "      <td>747</td>\n",
       "      <td>16</td>\n",
       "    </tr>\n",
       "    <tr>\n",
       "      <th>view_character_14</th>\n",
       "      <td>605</td>\n",
       "      <td>144</td>\n",
       "      <td>51</td>\n",
       "      <td>10</td>\n",
       "      <td>8</td>\n",
       "      <td>8</td>\n",
       "      <td>749</td>\n",
       "      <td>16</td>\n",
       "    </tr>\n",
       "    <tr>\n",
       "      <th>view_character_5</th>\n",
       "      <td>591</td>\n",
       "      <td>159</td>\n",
       "      <td>43</td>\n",
       "      <td>17</td>\n",
       "      <td>8</td>\n",
       "      <td>7</td>\n",
       "      <td>750</td>\n",
       "      <td>15</td>\n",
       "    </tr>\n",
       "    <tr>\n",
       "      <th>view_character_1</th>\n",
       "      <td>610</td>\n",
       "      <td>151</td>\n",
       "      <td>44</td>\n",
       "      <td>15</td>\n",
       "      <td>8</td>\n",
       "      <td>1</td>\n",
       "      <td>761</td>\n",
       "      <td>9</td>\n",
       "    </tr>\n",
       "  </tbody>\n",
       "</table>\n",
       "</div>"
      ],
      "text/plain": [
       "                   Very favorably  Somewhat favorably  \\\n",
       "view_character_12             112                 130   \n",
       "view_character_7              310                 171   \n",
       "view_character_6              110                 143   \n",
       "view_character_9              138                 153   \n",
       "view_character_4              245                 269   \n",
       "view_character_13             168                 183   \n",
       "view_character_8              142                 223   \n",
       "view_character_10             474                 229   \n",
       "view_character_3              547                 210   \n",
       "view_character_2              552                 219   \n",
       "view_character_11             562                 185   \n",
       "view_character_14             605                 144   \n",
       "view_character_5              591                 159   \n",
       "view_character_1              610                 151   \n",
       "\n",
       "                   Neither favorably nor unfavorably (neutral)  \\\n",
       "view_character_12                                          164   \n",
       "view_character_7                                            84   \n",
       "view_character_6                                           213   \n",
       "view_character_9                                           248   \n",
       "view_character_4                                           135   \n",
       "view_character_13                                          207   \n",
       "view_character_8                                           236   \n",
       "view_character_10                                           79   \n",
       "view_character_3                                            48   \n",
       "view_character_2                                            38   \n",
       "view_character_11                                           57   \n",
       "view_character_14                                           51   \n",
       "view_character_5                                            43   \n",
       "view_character_1                                            44   \n",
       "\n",
       "                   Unfamiliar (N/A)  Somewhat unfavorably  Very unfavorably  \\\n",
       "view_character_12               109                   102               204   \n",
       "view_character_7                 10                   102               149   \n",
       "view_character_6                156                    68               124   \n",
       "view_character_9                132                    96                45   \n",
       "view_character_4                 52                    83                39   \n",
       "view_character_13               164                    58                34   \n",
       "view_character_8                148                    63                 8   \n",
       "view_character_10                15                    23                 7   \n",
       "view_character_3                  8                    12                 6   \n",
       "view_character_2                  6                    13                 3   \n",
       "view_character_11                10                    10                 6   \n",
       "view_character_14                10                     8                 8   \n",
       "view_character_5                 17                     8                 7   \n",
       "view_character_1                 15                     8                 1   \n",
       "\n",
       "                   total_favorable_views  total_unfavorable_views  \n",
       "view_character_12                    242                      306  \n",
       "view_character_7                     481                      251  \n",
       "view_character_6                     253                      192  \n",
       "view_character_9                     291                      141  \n",
       "view_character_4                     514                      122  \n",
       "view_character_13                    351                       92  \n",
       "view_character_8                     365                       71  \n",
       "view_character_10                    703                       30  \n",
       "view_character_3                     757                       18  \n",
       "view_character_2                     771                       16  \n",
       "view_character_11                    747                       16  \n",
       "view_character_14                    749                       16  \n",
       "view_character_5                     750                       15  \n",
       "view_character_1                     761                        9  "
      ]
     },
     "execution_count": 38,
     "metadata": {},
     "output_type": "execute_result"
    }
   ],
   "source": [
    "combined_characters_views_df.sort_values('total_unfavorable_views', ascending=False)"
   ]
  },
  {
   "cell_type": "markdown",
   "metadata": {},
   "source": [
    "Character 12 is most liked by respondents"
   ]
  },
  {
   "cell_type": "markdown",
   "metadata": {},
   "source": [
    "### _Character that is the most controversial according to respondents(split between likes and dislikes)_"
   ]
  },
  {
   "cell_type": "code",
   "execution_count": 39,
   "metadata": {},
   "outputs": [
    {
     "data": {
      "text/html": [
       "<div>\n",
       "<style scoped>\n",
       "    .dataframe tbody tr th:only-of-type {\n",
       "        vertical-align: middle;\n",
       "    }\n",
       "\n",
       "    .dataframe tbody tr th {\n",
       "        vertical-align: top;\n",
       "    }\n",
       "\n",
       "    .dataframe thead th {\n",
       "        text-align: right;\n",
       "    }\n",
       "</style>\n",
       "<table border=\"1\" class=\"dataframe\">\n",
       "  <thead>\n",
       "    <tr style=\"text-align: right;\">\n",
       "      <th></th>\n",
       "      <th>Very favorably</th>\n",
       "      <th>Somewhat favorably</th>\n",
       "      <th>Neither favorably nor unfavorably (neutral)</th>\n",
       "      <th>Unfamiliar (N/A)</th>\n",
       "      <th>Somewhat unfavorably</th>\n",
       "      <th>Very unfavorably</th>\n",
       "      <th>total_favorable_views</th>\n",
       "      <th>total_unfavorable_views</th>\n",
       "      <th>cumulative_favorable_unfavorable_diff</th>\n",
       "    </tr>\n",
       "  </thead>\n",
       "  <tbody>\n",
       "    <tr>\n",
       "      <th>view_character_6</th>\n",
       "      <td>110</td>\n",
       "      <td>143</td>\n",
       "      <td>213</td>\n",
       "      <td>156</td>\n",
       "      <td>68</td>\n",
       "      <td>124</td>\n",
       "      <td>253</td>\n",
       "      <td>192</td>\n",
       "      <td>61</td>\n",
       "    </tr>\n",
       "    <tr>\n",
       "      <th>view_character_12</th>\n",
       "      <td>112</td>\n",
       "      <td>130</td>\n",
       "      <td>164</td>\n",
       "      <td>109</td>\n",
       "      <td>102</td>\n",
       "      <td>204</td>\n",
       "      <td>242</td>\n",
       "      <td>306</td>\n",
       "      <td>64</td>\n",
       "    </tr>\n",
       "    <tr>\n",
       "      <th>view_character_9</th>\n",
       "      <td>138</td>\n",
       "      <td>153</td>\n",
       "      <td>248</td>\n",
       "      <td>132</td>\n",
       "      <td>96</td>\n",
       "      <td>45</td>\n",
       "      <td>291</td>\n",
       "      <td>141</td>\n",
       "      <td>150</td>\n",
       "    </tr>\n",
       "    <tr>\n",
       "      <th>view_character_7</th>\n",
       "      <td>310</td>\n",
       "      <td>171</td>\n",
       "      <td>84</td>\n",
       "      <td>10</td>\n",
       "      <td>102</td>\n",
       "      <td>149</td>\n",
       "      <td>481</td>\n",
       "      <td>251</td>\n",
       "      <td>230</td>\n",
       "    </tr>\n",
       "    <tr>\n",
       "      <th>view_character_13</th>\n",
       "      <td>168</td>\n",
       "      <td>183</td>\n",
       "      <td>207</td>\n",
       "      <td>164</td>\n",
       "      <td>58</td>\n",
       "      <td>34</td>\n",
       "      <td>351</td>\n",
       "      <td>92</td>\n",
       "      <td>259</td>\n",
       "    </tr>\n",
       "    <tr>\n",
       "      <th>view_character_8</th>\n",
       "      <td>142</td>\n",
       "      <td>223</td>\n",
       "      <td>236</td>\n",
       "      <td>148</td>\n",
       "      <td>63</td>\n",
       "      <td>8</td>\n",
       "      <td>365</td>\n",
       "      <td>71</td>\n",
       "      <td>294</td>\n",
       "    </tr>\n",
       "    <tr>\n",
       "      <th>view_character_4</th>\n",
       "      <td>245</td>\n",
       "      <td>269</td>\n",
       "      <td>135</td>\n",
       "      <td>52</td>\n",
       "      <td>83</td>\n",
       "      <td>39</td>\n",
       "      <td>514</td>\n",
       "      <td>122</td>\n",
       "      <td>392</td>\n",
       "    </tr>\n",
       "    <tr>\n",
       "      <th>view_character_10</th>\n",
       "      <td>474</td>\n",
       "      <td>229</td>\n",
       "      <td>79</td>\n",
       "      <td>15</td>\n",
       "      <td>23</td>\n",
       "      <td>7</td>\n",
       "      <td>703</td>\n",
       "      <td>30</td>\n",
       "      <td>673</td>\n",
       "    </tr>\n",
       "    <tr>\n",
       "      <th>view_character_11</th>\n",
       "      <td>562</td>\n",
       "      <td>185</td>\n",
       "      <td>57</td>\n",
       "      <td>10</td>\n",
       "      <td>10</td>\n",
       "      <td>6</td>\n",
       "      <td>747</td>\n",
       "      <td>16</td>\n",
       "      <td>731</td>\n",
       "    </tr>\n",
       "    <tr>\n",
       "      <th>view_character_14</th>\n",
       "      <td>605</td>\n",
       "      <td>144</td>\n",
       "      <td>51</td>\n",
       "      <td>10</td>\n",
       "      <td>8</td>\n",
       "      <td>8</td>\n",
       "      <td>749</td>\n",
       "      <td>16</td>\n",
       "      <td>733</td>\n",
       "    </tr>\n",
       "    <tr>\n",
       "      <th>view_character_5</th>\n",
       "      <td>591</td>\n",
       "      <td>159</td>\n",
       "      <td>43</td>\n",
       "      <td>17</td>\n",
       "      <td>8</td>\n",
       "      <td>7</td>\n",
       "      <td>750</td>\n",
       "      <td>15</td>\n",
       "      <td>735</td>\n",
       "    </tr>\n",
       "    <tr>\n",
       "      <th>view_character_3</th>\n",
       "      <td>547</td>\n",
       "      <td>210</td>\n",
       "      <td>48</td>\n",
       "      <td>8</td>\n",
       "      <td>12</td>\n",
       "      <td>6</td>\n",
       "      <td>757</td>\n",
       "      <td>18</td>\n",
       "      <td>739</td>\n",
       "    </tr>\n",
       "    <tr>\n",
       "      <th>view_character_1</th>\n",
       "      <td>610</td>\n",
       "      <td>151</td>\n",
       "      <td>44</td>\n",
       "      <td>15</td>\n",
       "      <td>8</td>\n",
       "      <td>1</td>\n",
       "      <td>761</td>\n",
       "      <td>9</td>\n",
       "      <td>752</td>\n",
       "    </tr>\n",
       "    <tr>\n",
       "      <th>view_character_2</th>\n",
       "      <td>552</td>\n",
       "      <td>219</td>\n",
       "      <td>38</td>\n",
       "      <td>6</td>\n",
       "      <td>13</td>\n",
       "      <td>3</td>\n",
       "      <td>771</td>\n",
       "      <td>16</td>\n",
       "      <td>755</td>\n",
       "    </tr>\n",
       "  </tbody>\n",
       "</table>\n",
       "</div>"
      ],
      "text/plain": [
       "                   Very favorably  Somewhat favorably  \\\n",
       "view_character_6              110                 143   \n",
       "view_character_12             112                 130   \n",
       "view_character_9              138                 153   \n",
       "view_character_7              310                 171   \n",
       "view_character_13             168                 183   \n",
       "view_character_8              142                 223   \n",
       "view_character_4              245                 269   \n",
       "view_character_10             474                 229   \n",
       "view_character_11             562                 185   \n",
       "view_character_14             605                 144   \n",
       "view_character_5              591                 159   \n",
       "view_character_3              547                 210   \n",
       "view_character_1              610                 151   \n",
       "view_character_2              552                 219   \n",
       "\n",
       "                   Neither favorably nor unfavorably (neutral)  \\\n",
       "view_character_6                                           213   \n",
       "view_character_12                                          164   \n",
       "view_character_9                                           248   \n",
       "view_character_7                                            84   \n",
       "view_character_13                                          207   \n",
       "view_character_8                                           236   \n",
       "view_character_4                                           135   \n",
       "view_character_10                                           79   \n",
       "view_character_11                                           57   \n",
       "view_character_14                                           51   \n",
       "view_character_5                                            43   \n",
       "view_character_3                                            48   \n",
       "view_character_1                                            44   \n",
       "view_character_2                                            38   \n",
       "\n",
       "                   Unfamiliar (N/A)  Somewhat unfavorably  Very unfavorably  \\\n",
       "view_character_6                156                    68               124   \n",
       "view_character_12               109                   102               204   \n",
       "view_character_9                132                    96                45   \n",
       "view_character_7                 10                   102               149   \n",
       "view_character_13               164                    58                34   \n",
       "view_character_8                148                    63                 8   \n",
       "view_character_4                 52                    83                39   \n",
       "view_character_10                15                    23                 7   \n",
       "view_character_11                10                    10                 6   \n",
       "view_character_14                10                     8                 8   \n",
       "view_character_5                 17                     8                 7   \n",
       "view_character_3                  8                    12                 6   \n",
       "view_character_1                 15                     8                 1   \n",
       "view_character_2                  6                    13                 3   \n",
       "\n",
       "                   total_favorable_views  total_unfavorable_views  \\\n",
       "view_character_6                     253                      192   \n",
       "view_character_12                    242                      306   \n",
       "view_character_9                     291                      141   \n",
       "view_character_7                     481                      251   \n",
       "view_character_13                    351                       92   \n",
       "view_character_8                     365                       71   \n",
       "view_character_4                     514                      122   \n",
       "view_character_10                    703                       30   \n",
       "view_character_11                    747                       16   \n",
       "view_character_14                    749                       16   \n",
       "view_character_5                     750                       15   \n",
       "view_character_3                     757                       18   \n",
       "view_character_1                     761                        9   \n",
       "view_character_2                     771                       16   \n",
       "\n",
       "                   cumulative_favorable_unfavorable_diff  \n",
       "view_character_6                                      61  \n",
       "view_character_12                                     64  \n",
       "view_character_9                                     150  \n",
       "view_character_7                                     230  \n",
       "view_character_13                                    259  \n",
       "view_character_8                                     294  \n",
       "view_character_4                                     392  \n",
       "view_character_10                                    673  \n",
       "view_character_11                                    731  \n",
       "view_character_14                                    733  \n",
       "view_character_5                                     735  \n",
       "view_character_3                                     739  \n",
       "view_character_1                                     752  \n",
       "view_character_2                                     755  "
      ]
     },
     "execution_count": 39,
     "metadata": {},
     "output_type": "execute_result"
    }
   ],
   "source": [
    "combined_characters_views_df[\"cumulative_favorable_unfavorable_diff\"]=abs(combined_characters_views_df['total_favorable_views']-combined_characters_views_df['total_unfavorable_views'])\n",
    "combined_characters_views_df.sort_values('cumulative_favorable_unfavorable_diff')"
   ]
  },
  {
   "cell_type": "markdown",
   "metadata": {},
   "source": [
    "Characters 6 and 12 are the most controversial characters according to respondents."
   ]
  }
 ],
 "metadata": {
  "kernelspec": {
   "display_name": "Python 3",
   "language": "python",
   "name": "python3"
  },
  "language_info": {
   "codemirror_mode": {
    "name": "ipython",
    "version": 3
   },
   "file_extension": ".py",
   "mimetype": "text/x-python",
   "name": "python",
   "nbconvert_exporter": "python",
   "pygments_lexer": "ipython3",
   "version": "3.8.5"
  },
  "toc": {
   "base_numbering": 1,
   "nav_menu": {},
   "number_sections": true,
   "sideBar": true,
   "skip_h1_title": false,
   "title_cell": "Table of Contents",
   "title_sidebar": "Contents",
   "toc_cell": false,
   "toc_position": {},
   "toc_section_display": true,
   "toc_window_display": false
  },
  "varInspector": {
   "cols": {
    "lenName": 16,
    "lenType": 16,
    "lenVar": 40
   },
   "kernels_config": {
    "python": {
     "delete_cmd_postfix": "",
     "delete_cmd_prefix": "del ",
     "library": "var_list.py",
     "varRefreshCmd": "print(var_dic_list())"
    },
    "r": {
     "delete_cmd_postfix": ") ",
     "delete_cmd_prefix": "rm(",
     "library": "var_list.r",
     "varRefreshCmd": "cat(var_dic_list()) "
    }
   },
   "types_to_exclude": [
    "module",
    "function",
    "builtin_function_or_method",
    "instance",
    "_Feature"
   ],
   "window_display": false
  }
 },
 "nbformat": 4,
 "nbformat_minor": 4
}
